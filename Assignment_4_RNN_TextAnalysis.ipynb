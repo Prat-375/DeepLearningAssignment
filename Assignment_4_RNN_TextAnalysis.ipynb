{
  "nbformat": 4,
  "nbformat_minor": 0,
  "metadata": {
    "accelerator": "GPU",
    "colab": {
      "provenance": []
    },
    "kernelspec": {
      "display_name": "Python 3",
      "language": "python",
      "name": "python3"
    },
    "language_info": {
      "codemirror_mode": {
        "name": "ipython",
        "version": 3
      },
      "file_extension": ".py",
      "mimetype": "text/x-python",
      "name": "python",
      "nbconvert_exporter": "python",
      "pygments_lexer": "ipython3",
      "version": "3.7.7"
    }
  },
  "cells": [
    {
      "cell_type": "code",
      "metadata": {
        "id": "PqjhbAO7Vtoi"
      },
      "source": [
        "# importing tensorflow and numpy\n",
        "import tensorflow as tf\n",
        "import numpy as np"
      ],
      "execution_count": null,
      "outputs": []
    },
    {
      "cell_type": "markdown",
      "metadata": {
        "id": "Aq6PG_nlZ1md"
      },
      "source": [
        "Get and prepare data"
      ]
    },
    {
      "cell_type": "code",
      "metadata": {
        "id": "ojUh-cSQV3sN",
        "colab": {
          "base_uri": "https://localhost:8080/",
          "height": 386
        },
        "outputId": "045aa84e-c631-4168-ce79-77b97b527f41"
      },
      "source": [
        "## Run once in cobab to retrieve shakespeare input file and prepare_data.py\n",
        "\n",
        "!wget 'https://cs.stanford.edu/people/karpathy/char-rnn/shakespeare_input.txt'\n",
        "!wget 'https://ovgu-ailab.github.io/idl2019/assignments/5/prepare_data.py'"
      ],
      "execution_count": null,
      "outputs": [
        {
          "output_type": "stream",
          "text": [
            "--2020-05-25 20:07:45--  https://cs.stanford.edu/people/karpathy/char-rnn/shakespeare_input.txt\n",
            "Resolving cs.stanford.edu (cs.stanford.edu)... 171.64.64.64\n",
            "Connecting to cs.stanford.edu (cs.stanford.edu)|171.64.64.64|:443... connected.\n",
            "HTTP request sent, awaiting response... 200 OK\n",
            "Length: 4573338 (4.4M) [text/plain]\n",
            "Saving to: ‘shakespeare_input.txt’\n",
            "\n",
            "\rshakespeare_input.t   0%[                    ]       0  --.-KB/s               \rshakespeare_input.t  19%[==>                 ] 888.00K  3.76MB/s               \rshakespeare_input.t 100%[===================>]   4.36M  13.8MB/s    in 0.3s    \n",
            "\n",
            "2020-05-25 20:07:46 (13.8 MB/s) - ‘shakespeare_input.txt’ saved [4573338/4573338]\n",
            "\n",
            "--2020-05-25 20:07:47--  https://ovgu-ailab.github.io/idl2019/assignments/5/prepare_data.py\n",
            "Resolving ovgu-ailab.github.io (ovgu-ailab.github.io)... 185.199.108.153, 185.199.110.153, 185.199.111.153, ...\n",
            "Connecting to ovgu-ailab.github.io (ovgu-ailab.github.io)|185.199.108.153|:443... connected.\n",
            "HTTP request sent, awaiting response... 200 OK\n",
            "Length: 5611 (5.5K) [application/octet-stream]\n",
            "Saving to: ‘prepare_data.py’\n",
            "\n",
            "prepare_data.py     100%[===================>]   5.48K  --.-KB/s    in 0s      \n",
            "\n",
            "2020-05-25 20:07:47 (36.0 MB/s) - ‘prepare_data.py’ saved [5611/5611]\n",
            "\n"
          ],
          "name": "stdout"
        }
      ]
    },
    {
      "cell_type": "code",
      "metadata": {
        "id": "xEL1eqrlWovS",
        "colab": {
          "base_uri": "https://localhost:8080/",
          "height": 1000
        },
        "outputId": "981e09c3-8a56-409a-e706-0d1ec711fe21"
      },
      "source": [
        " !python prepare_data.py shakespeare_input.txt skp"
      ],
      "execution_count": null,
      "outputs": [
        {
          "output_type": "stream",
          "text": [
            "2020-05-25 20:07:58.689847: I tensorflow/stream_executor/platform/default/dso_loader.cc:44] Successfully opened dynamic library libcudart.so.10.1\n",
            "Split input into 22981 sequences...\n",
            "Serialized 100 sequences...\n",
            "Serialized 200 sequences...\n",
            "Serialized 300 sequences...\n",
            "Serialized 400 sequences...\n",
            "Serialized 500 sequences...\n",
            "Serialized 600 sequences...\n",
            "Serialized 700 sequences...\n",
            "Serialized 800 sequences...\n",
            "Serialized 900 sequences...\n",
            "Serialized 1000 sequences...\n",
            "Serialized 1100 sequences...\n",
            "Serialized 1200 sequences...\n",
            "Serialized 1300 sequences...\n",
            "Serialized 1400 sequences...\n",
            "Serialized 1500 sequences...\n",
            "Serialized 1600 sequences...\n",
            "Serialized 1700 sequences...\n",
            "Serialized 1800 sequences...\n",
            "Serialized 1900 sequences...\n",
            "Serialized 2000 sequences...\n",
            "Serialized 2100 sequences...\n",
            "Serialized 2200 sequences...\n",
            "Serialized 2300 sequences...\n",
            "Serialized 2400 sequences...\n",
            "Serialized 2500 sequences...\n",
            "Serialized 2600 sequences...\n",
            "Serialized 2700 sequences...\n",
            "Serialized 2800 sequences...\n",
            "Serialized 2900 sequences...\n",
            "Serialized 3000 sequences...\n",
            "Serialized 3100 sequences...\n",
            "Serialized 3200 sequences...\n",
            "Serialized 3300 sequences...\n",
            "Serialized 3400 sequences...\n",
            "Serialized 3500 sequences...\n",
            "Serialized 3600 sequences...\n",
            "Serialized 3700 sequences...\n",
            "Serialized 3800 sequences...\n",
            "Serialized 3900 sequences...\n",
            "Serialized 4000 sequences...\n",
            "Serialized 4100 sequences...\n",
            "Serialized 4200 sequences...\n",
            "Serialized 4300 sequences...\n",
            "Serialized 4400 sequences...\n",
            "Serialized 4500 sequences...\n",
            "Serialized 4600 sequences...\n",
            "Serialized 4700 sequences...\n",
            "Serialized 4800 sequences...\n",
            "Serialized 4900 sequences...\n",
            "Serialized 5000 sequences...\n",
            "Serialized 5100 sequences...\n",
            "Serialized 5200 sequences...\n",
            "Serialized 5300 sequences...\n",
            "Serialized 5400 sequences...\n",
            "Serialized 5500 sequences...\n",
            "Serialized 5600 sequences...\n",
            "Serialized 5700 sequences...\n",
            "Serialized 5800 sequences...\n",
            "Serialized 5900 sequences...\n",
            "Serialized 6000 sequences...\n",
            "Serialized 6100 sequences...\n",
            "Serialized 6200 sequences...\n",
            "Serialized 6300 sequences...\n",
            "Serialized 6400 sequences...\n",
            "Serialized 6500 sequences...\n",
            "Serialized 6600 sequences...\n",
            "Serialized 6700 sequences...\n",
            "Serialized 6800 sequences...\n",
            "Serialized 6900 sequences...\n",
            "Serialized 7000 sequences...\n",
            "Serialized 7100 sequences...\n",
            "Serialized 7200 sequences...\n",
            "Serialized 7300 sequences...\n",
            "Serialized 7400 sequences...\n",
            "Serialized 7500 sequences...\n",
            "Serialized 7600 sequences...\n",
            "Serialized 7700 sequences...\n",
            "Serialized 7800 sequences...\n",
            "Serialized 7900 sequences...\n",
            "Serialized 8000 sequences...\n",
            "Serialized 8100 sequences...\n",
            "Serialized 8200 sequences...\n",
            "Serialized 8300 sequences...\n",
            "Serialized 8400 sequences...\n",
            "Serialized 8500 sequences...\n",
            "Serialized 8600 sequences...\n",
            "Serialized 8700 sequences...\n",
            "Serialized 8800 sequences...\n",
            "Serialized 8900 sequences...\n",
            "Serialized 9000 sequences...\n",
            "Serialized 9100 sequences...\n",
            "Serialized 9200 sequences...\n",
            "Serialized 9300 sequences...\n",
            "Serialized 9400 sequences...\n",
            "Serialized 9500 sequences...\n",
            "Serialized 9600 sequences...\n",
            "Serialized 9700 sequences...\n",
            "Serialized 9800 sequences...\n",
            "Serialized 9900 sequences...\n",
            "Serialized 10000 sequences...\n",
            "Serialized 10100 sequences...\n",
            "Serialized 10200 sequences...\n",
            "Serialized 10300 sequences...\n",
            "Serialized 10400 sequences...\n",
            "Serialized 10500 sequences...\n",
            "Serialized 10600 sequences...\n",
            "Serialized 10700 sequences...\n",
            "Serialized 10800 sequences...\n",
            "Serialized 10900 sequences...\n",
            "Serialized 11000 sequences...\n",
            "Serialized 11100 sequences...\n",
            "Serialized 11200 sequences...\n",
            "Serialized 11300 sequences...\n",
            "Serialized 11400 sequences...\n",
            "Serialized 11500 sequences...\n",
            "Serialized 11600 sequences...\n",
            "Serialized 11700 sequences...\n",
            "Serialized 11800 sequences...\n",
            "Serialized 11900 sequences...\n",
            "Serialized 12000 sequences...\n",
            "Serialized 12100 sequences...\n",
            "Serialized 12200 sequences...\n",
            "Serialized 12300 sequences...\n",
            "Serialized 12400 sequences...\n",
            "Serialized 12500 sequences...\n",
            "Serialized 12600 sequences...\n",
            "Serialized 12700 sequences...\n",
            "Serialized 12800 sequences...\n",
            "Serialized 12900 sequences...\n",
            "Serialized 13000 sequences...\n",
            "Serialized 13100 sequences...\n",
            "Serialized 13200 sequences...\n",
            "Serialized 13300 sequences...\n",
            "Serialized 13400 sequences...\n",
            "Serialized 13500 sequences...\n",
            "Serialized 13600 sequences...\n",
            "Serialized 13700 sequences...\n",
            "Serialized 13800 sequences...\n",
            "Serialized 13900 sequences...\n",
            "Serialized 14000 sequences...\n",
            "Serialized 14100 sequences...\n",
            "Serialized 14200 sequences...\n",
            "Serialized 14300 sequences...\n",
            "Serialized 14400 sequences...\n",
            "Serialized 14500 sequences...\n",
            "Serialized 14600 sequences...\n",
            "Serialized 14700 sequences...\n",
            "Serialized 14800 sequences...\n",
            "Serialized 14900 sequences...\n",
            "Serialized 15000 sequences...\n",
            "Serialized 15100 sequences...\n",
            "Serialized 15200 sequences...\n",
            "Serialized 15300 sequences...\n",
            "Serialized 15400 sequences...\n",
            "Serialized 15500 sequences...\n",
            "Serialized 15600 sequences...\n",
            "Serialized 15700 sequences...\n",
            "Serialized 15800 sequences...\n",
            "Serialized 15900 sequences...\n",
            "Serialized 16000 sequences...\n",
            "Serialized 16100 sequences...\n",
            "Serialized 16200 sequences...\n",
            "Serialized 16300 sequences...\n",
            "Serialized 16400 sequences...\n",
            "Serialized 16500 sequences...\n",
            "Serialized 16600 sequences...\n",
            "Serialized 16700 sequences...\n",
            "Serialized 16800 sequences...\n",
            "Serialized 16900 sequences...\n",
            "Serialized 17000 sequences...\n",
            "Serialized 17100 sequences...\n",
            "Serialized 17200 sequences...\n",
            "Serialized 17300 sequences...\n",
            "Serialized 17400 sequences...\n",
            "Serialized 17500 sequences...\n",
            "Serialized 17600 sequences...\n",
            "Serialized 17700 sequences...\n",
            "Serialized 17800 sequences...\n",
            "Serialized 17900 sequences...\n",
            "Serialized 18000 sequences...\n",
            "Serialized 18100 sequences...\n",
            "Serialized 18200 sequences...\n",
            "Serialized 18300 sequences...\n",
            "Serialized 18400 sequences...\n",
            "Serialized 18500 sequences...\n",
            "Serialized 18600 sequences...\n",
            "Serialized 18700 sequences...\n",
            "Serialized 18800 sequences...\n",
            "Serialized 18900 sequences...\n",
            "Serialized 19000 sequences...\n",
            "Serialized 19100 sequences...\n",
            "Serialized 19200 sequences...\n",
            "Serialized 19300 sequences...\n",
            "Serialized 19400 sequences...\n",
            "Serialized 19500 sequences...\n",
            "Serialized 19600 sequences...\n",
            "Serialized 19700 sequences...\n",
            "Serialized 19800 sequences...\n",
            "Serialized 19900 sequences...\n",
            "Serialized 20000 sequences...\n",
            "Serialized 20100 sequences...\n",
            "Serialized 20200 sequences...\n",
            "Serialized 20300 sequences...\n",
            "Serialized 20400 sequences...\n",
            "Serialized 20500 sequences...\n",
            "Serialized 20600 sequences...\n",
            "Serialized 20700 sequences...\n",
            "Serialized 20800 sequences...\n",
            "Serialized 20900 sequences...\n",
            "Serialized 21000 sequences...\n",
            "Serialized 21100 sequences...\n",
            "Serialized 21200 sequences...\n",
            "Serialized 21300 sequences...\n",
            "Serialized 21400 sequences...\n",
            "Serialized 21500 sequences...\n",
            "Serialized 21600 sequences...\n",
            "Serialized 21700 sequences...\n",
            "Serialized 21800 sequences...\n",
            "Serialized 21900 sequences...\n",
            "Serialized 22000 sequences...\n",
            "Serialized 22100 sequences...\n",
            "Serialized 22200 sequences...\n",
            "Serialized 22300 sequences...\n",
            "Serialized 22400 sequences...\n",
            "Serialized 22500 sequences...\n",
            "Serialized 22600 sequences...\n",
            "Serialized 22700 sequences...\n",
            "Serialized 22800 sequences...\n",
            "Serialized 22900 sequences...\n"
          ],
          "name": "stdout"
        }
      ]
    },
    {
      "cell_type": "code",
      "metadata": {
        "id": "L431Eo28V9FM",
        "outputId": "e5d1fe8a-3396-4291-b66b-def9198ca051",
        "colab": {
          "base_uri": "https://localhost:8080/",
          "height": 70
        }
      },
      "source": [
        "from prepare_data import parse_seq\n",
        "import pickle\n",
        "\n",
        "# this is just a datasets of \"bytes\" (not understandable)\n",
        "data = tf.data.TFRecordDataset(\"skp.tfrecords\")\n",
        "\n",
        "# this maps a parser function that properly interprets the bytes over the dataset\n",
        "# (with fixed sequence length 200)\n",
        "# if you change the sequence length in preprocessing you also need to change it here\n",
        "data = data.map(lambda x: parse_seq(x, 200))\n",
        "\n",
        "# a map from characters to indices\n",
        "vocab = pickle.load(open(\"skp_vocab\", mode=\"rb\"))\n",
        "vocab_size = len(vocab)\n",
        "# inverse mapping: indices to characters\n",
        "ind_to_ch = {ind: ch for (ch, ind) in vocab.items()}\n",
        "\n",
        "print(vocab)\n",
        "print(vocab_size)"
      ],
      "execution_count": null,
      "outputs": [
        {
          "output_type": "stream",
          "text": [
            "{'k': 1, ']': 2, '[': 3, 'h': 4, 'N': 5, 'P': 6, 'x': 7, \"'\": 8, ':': 9, 'o': 10, '!': 11, 'Q': 12, 'X': 13, 'T': 14, '$': 15, 'c': 16, '-': 17, 'L': 18, 't': 19, 'R': 20, 'n': 21, 'K': 22, ',': 23, 'g': 24, ' ': 25, 'f': 26, 'G': 27, 'u': 28, 'i': 29, 'm': 30, 'p': 31, 'I': 32, 'W': 33, 'U': 34, 'F': 35, 'Y': 36, 'D': 37, ';': 38, '3': 39, 'B': 40, 'z': 41, 'J': 42, 'r': 43, 'A': 44, 'H': 45, 's': 46, 'E': 47, 'C': 48, 'q': 49, 'O': 50, 'l': 51, 'a': 52, 'V': 53, 'Z': 54, '?': 55, 'y': 56, 'S': 57, 'w': 58, 'e': 59, 'd': 60, 'M': 61, '&': 62, 'b': 63, '.': 64, '\\n': 65, 'v': 66, 'j': 67, '<S>': 0}\n",
            "68\n"
          ],
          "name": "stdout"
        }
      ]
    },
    {
      "cell_type": "code",
      "metadata": {
        "id": "SJuNILbDXpQx",
        "outputId": "c373fca1-6833-4d92-d555-a243ca90e19d",
        "colab": {
          "base_uri": "https://localhost:8080/",
          "height": 34
        }
      },
      "source": [
        "data"
      ],
      "execution_count": null,
      "outputs": [
        {
          "output_type": "execute_result",
          "data": {
            "text/plain": [
              "<MapDataset shapes: (200,), types: tf.int32>"
            ]
          },
          "metadata": {
            "tags": []
          },
          "execution_count": 10
        }
      ]
    },
    {
      "cell_type": "markdown",
      "metadata": {
        "id": "ZfqzsH4tZ1mr"
      },
      "source": [
        "We need to create batches out of the encoded data and define the length of the sequence that needs to be processed in one step."
      ]
    },
    {
      "cell_type": "code",
      "metadata": {
        "id": "8dMyHsS_WkrF"
      },
      "source": [
        "batch_size = 128\n",
        "sequence_length = 200\n",
        "buffer_size = 10000\n",
        "\n",
        "data = data.shuffle(buffer_size).repeat().batch(batch_size)"
      ],
      "execution_count": null,
      "outputs": []
    },
    {
      "cell_type": "code",
      "metadata": {
        "id": "U4HDC3upfbL-",
        "outputId": "99075111-11f2-4fe6-d65c-d3722784ece8",
        "colab": {
          "base_uri": "https://localhost:8080/",
          "height": 34
        }
      },
      "source": [
        "data"
      ],
      "execution_count": null,
      "outputs": [
        {
          "output_type": "execute_result",
          "data": {
            "text/plain": [
              "<BatchDataset shapes: (None, 200), types: tf.int32>"
            ]
          },
          "metadata": {
            "tags": []
          },
          "execution_count": 12
        }
      ]
    },
    {
      "cell_type": "code",
      "metadata": {
        "id": "5FRg9OblYBgl"
      },
      "source": [
        "# number of neurons in the hidden layer\n",
        "n_hidden = 512\n",
        "\n",
        "# using random normal distribution for generating intial weight values\n",
        "random_normal = random_normal = tf.initializers.RandomNormal()\n",
        "\n",
        "# Intitializing the weights\n",
        "weights = {\n",
        "  'w_xh' : tf.Variable(random_normal([vocab_size,n_hidden]),dtype=tf.dtypes.float32),\n",
        "  'w_hh' : tf.Variable(random_normal([n_hidden,n_hidden]),dtype=tf.dtypes.float32),\n",
        "  'w_ho' : tf.Variable(random_normal([n_hidden,vocab_size]),dtype=tf.dtypes.float32)\n",
        "}\n",
        "biases = {\n",
        "  'b_h' : tf.Variable(tf.zeros([n_hidden]),dtype=tf.dtypes.float32),\n",
        "  'b_o' : tf.Variable(tf.zeros([vocab_size]),dtype=tf.dtypes.float32)\n",
        "}\n",
        "\n",
        "all_trainable_variables = [weights['w_xh'],weights['w_hh'],biases['b_h'],weights['w_ho'],biases['b_o']]"
      ],
      "execution_count": null,
      "outputs": []
    },
    {
      "cell_type": "code",
      "metadata": {
        "id": "Y29Tkl8OY0Yr"
      },
      "source": [
        "# chosen after determing loss over many more steps.\n",
        "# As I am aiming for average loss ~1.4, 5500 suffices.\n",
        "steps = 5500\n",
        "\n",
        "# initializing the ortimizer as Adam\n",
        "optimizer = tf.optimizers.Adam() # learning rate defaults to 0.001\n",
        "\n",
        "# initializing loss function as SparseCategoricalCrossentropy\n",
        "# https://www.tensorflow.org/api_docs/python/tf/keras/losses/SparseCategoricalCrossentropy\n",
        "loss_fn = tf.losses.SparseCategoricalCrossentropy(from_logits=True)"
      ],
      "execution_count": null,
      "outputs": []
    },
    {
      "cell_type": "code",
      "metadata": {
        "id": "KVWYzctLZurA"
      },
      "source": [
        "@tf.function\n",
        "def rnn_on_sequence(sequence_batch):\n",
        "  with tf.GradientTape() as tape:\n",
        "    state = tf.zeros([tf.shape(sequence_batch)[0], n_hidden])\n",
        "    total_loss = tf.constant(0, dtype=tf.dtypes.float32)\n",
        "\n",
        "    for time_step in range(sequence_length-1):\n",
        "      input = tf.one_hot(sequence_batch[:,time_step], vocab_size)\n",
        "      state = tf.nn.tanh(tf.matmul(input,weights['w_xh']) + tf.matmul(state, weights['w_hh']) + biases['b_h'])\n",
        "      logits = tf.matmul(state, weights['w_ho']) + biases['b_o']\n",
        "\n",
        "      loss = loss_fn(sequence_batch[:,time_step+1], logits)\n",
        "\n",
        "      total_loss += loss\n",
        "\n",
        "    total_loss /= tf.cast(tf.shape(sequence_batch[1])-1, dtype=tf.dtypes.float32)\n",
        "  gradients = tape.gradient(total_loss, all_trainable_variables)\n",
        "\n",
        "  ## gradient clipping\n",
        "  glob_norm = tf.linalg.global_norm(gradients)\n",
        "  gradients = [g/glob_norm for g in gradients]\n",
        "\n",
        "  optimizer.apply_gradients(zip(gradients,all_trainable_variables))\n",
        "\n",
        "  return total_loss"
      ],
      "execution_count": null,
      "outputs": []
    },
    {
      "cell_type": "code",
      "metadata": {
        "id": "r0Ga4RLpejU5",
        "outputId": "b60711e9-509e-4dba-ab63-93bcffc53def",
        "colab": {
          "base_uri": "https://localhost:8080/",
          "height": 487
        }
      },
      "source": [
        "for step, sequence in enumerate(data):\n",
        "  #print(sequence.shape)\n",
        "  xent_avg = rnn_on_sequence(sequence)\n",
        "  if not step % 200:\n",
        "    print(f'Currently on step {step}. The average loss is {xent_avg}')\n",
        "  if step > steps:\n",
        "    break"
      ],
      "execution_count": null,
      "outputs": [
        {
          "output_type": "stream",
          "text": [
            "Currently on step 0. The average loss is [4.3381653]\n",
            "Currently on step 200. The average loss is [2.2762394]\n",
            "Currently on step 400. The average loss is [2.1251552]\n",
            "Currently on step 600. The average loss is [2.0109375]\n",
            "Currently on step 800. The average loss is [1.9201553]\n",
            "Currently on step 1000. The average loss is [1.8323739]\n",
            "Currently on step 1200. The average loss is [1.7784071]\n",
            "Currently on step 1400. The average loss is [1.7079808]\n",
            "Currently on step 1600. The average loss is [1.6818286]\n",
            "Currently on step 1800. The average loss is [1.645739]\n",
            "Currently on step 2000. The average loss is [1.6288478]\n",
            "Currently on step 2200. The average loss is [1.5959691]\n",
            "Currently on step 2400. The average loss is [1.5505608]\n",
            "Currently on step 2600. The average loss is [1.5306225]\n",
            "Currently on step 2800. The average loss is [1.5416465]\n",
            "Currently on step 3000. The average loss is [1.523194]\n",
            "Currently on step 3200. The average loss is [1.4927349]\n",
            "Currently on step 3400. The average loss is [1.5014752]\n",
            "Currently on step 3600. The average loss is [1.4474843]\n",
            "Currently on step 3800. The average loss is [1.4696751]\n",
            "Currently on step 4000. The average loss is [1.4599252]\n",
            "Currently on step 4200. The average loss is [1.4433928]\n",
            "Currently on step 4400. The average loss is [1.4273261]\n",
            "Currently on step 4600. The average loss is [1.4325734]\n",
            "Currently on step 4800. The average loss is [1.4344199]\n",
            "Currently on step 5000. The average loss is [1.4112896]\n",
            "Currently on step 5200. The average loss is [1.4169214]\n",
            "Currently on step 5400. The average loss is [1.3809065]\n"
          ],
          "name": "stdout"
        }
      ]
    },
    {
      "cell_type": "code",
      "metadata": {
        "id": "Ce7ZYcJeem5m"
      },
      "source": [
        "def samples(n_steps):\n",
        "  state = tf.zeros([1,n_hidden])\n",
        "  gen = [0]\n",
        "\n",
        "  for step in range(n_steps):\n",
        "    state = tf.nn.tanh(tf.matmul(tf.one_hot(gen[-1:],depth=vocab_size), weights['w_xh']) + tf.matmul(state,weights['w_hh']) + biases['b_h'])\n",
        "    probs = tf.nn.softmax(tf.matmul(state, weights['w_ho']) + biases['b_o']).numpy()[0]\n",
        "\n",
        "    gen.append(np.random.choice(vocab_size, p=probs))\n",
        "\n",
        "  return ''.join([ind_to_ch[ind] for ind in gen])"
      ],
      "execution_count": null,
      "outputs": []
    },
    {
      "cell_type": "code",
      "metadata": {
        "id": "dt1BTg96t7RP",
        "outputId": "7f3efd2b-6300-43ec-9191-86a527a8b66a",
        "colab": {
          "base_uri": "https://localhost:8080/",
          "height": 319
        }
      },
      "source": [
        "print(samples(500))"
      ],
      "execution_count": null,
      "outputs": [
        {
          "output_type": "stream",
          "text": [
            "<S>ave with far, and had sharty\n",
            "With a moouthing, hear the holy hand,\n",
            "For with a marked pasting to her honest\n",
            "And leves no keeper, with the offer knave,\n",
            "'To't 'Alove sill'd I but peace.\n",
            "\n",
            "KING HENRY V:\n",
            "I am sable such hiddes, which he my sapts\n",
            "Stood to see it, and much all merding ncect\n",
            "One of the bold end.\n",
            "I shull be the see of his bodyor and no\n",
            "lime--\n",
            "To the request's black and not time,\n",
            "I where no meam, burn this all by tender,\n",
            "Mine eve ton un soury in yonder bring.\n",
            "\n",
            "DUKE VINCENTIO:\n",
            "Saith, I know\n"
          ],
          "name": "stdout"
        }
      ]
    },
    {
      "cell_type": "code",
      "metadata": {
        "id": "pQwNXFnrgQpx"
      },
      "source": [],
      "execution_count": null,
      "outputs": []
    }
  ]
}