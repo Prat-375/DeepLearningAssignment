{
  "nbformat": 4,
  "nbformat_minor": 0,
  "metadata": {
    "colab": {
      "provenance": []
    },
    "kernelspec": {
      "name": "python3",
      "display_name": "Python 3"
    }
  },
  "cells": [
    {
      "cell_type": "code",
      "metadata": {
        "id": "n3EtZHccmfTr"
      },
      "source": [
        "import pandas as pd\n",
        "import numpy as np\n",
        "import matplotlib.pyplot as plt\n",
        "import tensorflow as tf"
      ],
      "execution_count": null,
      "outputs": []
    },
    {
      "cell_type": "code",
      "metadata": {
        "id": "Rm51mit9m95I"
      },
      "source": [
        "from tensorflow.keras.datasets import fashion_mnist"
      ],
      "execution_count": null,
      "outputs": []
    },
    {
      "cell_type": "code",
      "metadata": {
        "id": "FRruG4T5nECS",
        "outputId": "9494b41d-1dd5-4261-8b06-e0abc7718ae6",
        "colab": {
          "base_uri": "https://localhost:8080/",
          "height": 150
        }
      },
      "source": [
        "(X_train, y_train), (X_test, y_test) = fashion_mnist.load_data()"
      ],
      "execution_count": null,
      "outputs": [
        {
          "output_type": "stream",
          "text": [
            "Downloading data from https://storage.googleapis.com/tensorflow/tf-keras-datasets/train-labels-idx1-ubyte.gz\n",
            "32768/29515 [=================================] - 0s 0us/step\n",
            "Downloading data from https://storage.googleapis.com/tensorflow/tf-keras-datasets/train-images-idx3-ubyte.gz\n",
            "26427392/26421880 [==============================] - 0s 0us/step\n",
            "Downloading data from https://storage.googleapis.com/tensorflow/tf-keras-datasets/t10k-labels-idx1-ubyte.gz\n",
            "8192/5148 [===============================================] - 0s 0us/step\n",
            "Downloading data from https://storage.googleapis.com/tensorflow/tf-keras-datasets/t10k-images-idx3-ubyte.gz\n",
            "4423680/4422102 [==============================] - 0s 0us/step\n"
          ],
          "name": "stdout"
        }
      ]
    },
    {
      "cell_type": "code",
      "metadata": {
        "id": "qSaqIWWwxUi9",
        "outputId": "363cef6d-3129-4d76-a3a8-77d5f238b6f3",
        "colab": {
          "base_uri": "https://localhost:8080/",
          "height": 33
        }
      },
      "source": [
        "X_train.shape"
      ],
      "execution_count": null,
      "outputs": [
        {
          "output_type": "execute_result",
          "data": {
            "text/plain": [
              "(60000, 28, 28)"
            ]
          },
          "metadata": {
            "tags": []
          },
          "execution_count": 4
        }
      ]
    },
    {
      "cell_type": "code",
      "metadata": {
        "id": "7-m4BHW2jNse",
        "outputId": "2fbfa6d4-133f-4cfd-88b5-777f145d4ebb",
        "colab": {
          "base_uri": "https://localhost:8080/",
          "height": 33
        }
      },
      "source": [
        "X_test.shape"
      ],
      "execution_count": null,
      "outputs": [
        {
          "output_type": "execute_result",
          "data": {
            "text/plain": [
              "(10000, 28, 28)"
            ]
          },
          "metadata": {
            "tags": []
          },
          "execution_count": 5
        }
      ]
    },
    {
      "cell_type": "code",
      "metadata": {
        "id": "OQsrHGAKn2Cq",
        "outputId": "bf67aa7e-c639-4129-9fe7-a6e3e128e8df",
        "colab": {
          "base_uri": "https://localhost:8080/",
          "height": 281
        }
      },
      "source": [
        "plt.imshow(X_train[0])"
      ],
      "execution_count": null,
      "outputs": [
        {
          "output_type": "execute_result",
          "data": {
            "text/plain": [
              "<matplotlib.image.AxesImage at 0x7f1751f7b160>"
            ]
          },
          "metadata": {
            "tags": []
          },
          "execution_count": 6
        },
        {
          "output_type": "display_data",
          "data": {
            "image/png": "[encoded data removed]",
            "text/plain": [
              "<Figure size 432x288 with 1 Axes>"
            ]
          },
          "metadata": {
            "tags": [],
            "needs_background": "light"
          }
        }
      ]
    },
    {
      "cell_type": "code",
      "metadata": {
        "id": "BQoLIfNcoDmv"
      },
      "source": [
        "X_train = X_train/255"
      ],
      "execution_count": null,
      "outputs": []
    },
    {
      "cell_type": "code",
      "metadata": {
        "id": "Vg3ADaNQoNEd"
      },
      "source": [
        "X_test = X_test/255"
      ],
      "execution_count": null,
      "outputs": []
    },
    {
      "cell_type": "code",
      "metadata": {
        "id": "njNsAyexxaxU",
        "outputId": "0bd0c523-adf9-41ab-f531-c94adcc2f5d0",
        "colab": {
          "base_uri": "https://localhost:8080/",
          "height": 33
        }
      },
      "source": [
        "X_train.shape"
      ],
      "execution_count": null,
      "outputs": [
        {
          "output_type": "execute_result",
          "data": {
            "text/plain": [
              "(60000, 28, 28)"
            ]
          },
          "metadata": {
            "tags": []
          },
          "execution_count": 9
        }
      ]
    },
    {
      "cell_type": "code",
      "metadata": {
        "id": "kAHV0q5YoRQu"
      },
      "source": [
        "from tensorflow.keras.models import Sequential\n",
        "from tensorflow.keras.layers import Dense,Flatten,Reshape\n",
        "from tensorflow.keras.optimizers import SGD"
      ],
      "execution_count": null,
      "outputs": []
    },
    {
      "cell_type": "code",
      "metadata": {
        "id": "qvQGh8Kpo_CC"
      },
      "source": [
        "encoder = Sequential()\n",
        "encoder.add(Flatten(input_shape=[28,28]))\n",
        "encoder.add(Dense(400,activation='relu'))\n",
        "encoder.add(Dense(200,activation='relu'))\n",
        "encoder.add(Dense(100,activation='relu'))\n",
        "encoder.add(Dense(50,activation='relu'))\n",
        "encoder.add(Dense(25,activation='relu'))"
      ],
      "execution_count": null,
      "outputs": []
    },
    {
      "cell_type": "code",
      "metadata": {
        "id": "DOxG9i4ZqUL7"
      },
      "source": [
        "decoder = Sequential()\n",
        "decoder.add(Dense(50,input_shape=[25],activation='relu'))\n",
        "decoder.add(Dense(100,activation='relu'))\n",
        "decoder.add(Dense(200,activation='relu'))\n",
        "decoder.add(Dense(400,activation='relu'))\n",
        "decoder.add(Dense(784,activation='sigmoid'))\n",
        "decoder.add(Reshape([28,28]))"
      ],
      "execution_count": null,
      "outputs": []
    },
    {
      "cell_type": "code",
      "metadata": {
        "id": "lAt8jh3ureVV"
      },
      "source": [
        "autoencoder = Sequential([encoder,decoder])\n",
        "autoencoder.compile(loss='binary_crossentropy',optimizer=SGD(learning_rate=1.5),metrics=['accuracy'])"
      ],
      "execution_count": null,
      "outputs": []
    },
    {
      "cell_type": "code",
      "metadata": {
        "id": "rltS34r0st7y",
        "outputId": "6551fd38-e69d-44ff-dfa3-cbbf377761c4",
        "colab": {
          "base_uri": "https://localhost:8080/",
          "height": 722
        }
      },
      "source": [
        "autoencoder.fit(X_train,X_train,epochs=20,validation_data=(X_test,X_test))"
      ],
      "execution_count": null,
      "outputs": [
        {
          "output_type": "stream",
          "text": [
            "Epoch 1/20\n",
            "1875/1875 [==============================] - 19s 10ms/step - loss: 0.3924 - accuracy: 0.0640 - val_loss: 0.3348 - val_accuracy: 0.0857\n",
            "Epoch 2/20\n",
            "1875/1875 [==============================] - 18s 10ms/step - loss: 0.3250 - accuracy: 0.0902 - val_loss: 0.3175 - val_accuracy: 0.0925\n",
            "Epoch 3/20\n",
            "1875/1875 [==============================] - 18s 10ms/step - loss: 0.3134 - accuracy: 0.0992 - val_loss: 0.3150 - val_accuracy: 0.1066\n",
            "Epoch 4/20\n",
            "1875/1875 [==============================] - 18s 10ms/step - loss: 0.3084 - accuracy: 0.1074 - val_loss: 0.3109 - val_accuracy: 0.1112\n",
            "Epoch 5/20\n",
            "1875/1875 [==============================] - 18s 10ms/step - loss: 0.3051 - accuracy: 0.1130 - val_loss: 0.3078 - val_accuracy: 0.1169\n",
            "Epoch 6/20\n",
            "1875/1875 [==============================] - 18s 10ms/step - loss: 0.3026 - accuracy: 0.1185 - val_loss: 0.3039 - val_accuracy: 0.1270\n",
            "Epoch 7/20\n",
            "1875/1875 [==============================] - 18s 9ms/step - loss: 0.3004 - accuracy: 0.1221 - val_loss: 0.3004 - val_accuracy: 0.1214\n",
            "Epoch 8/20\n",
            "1875/1875 [==============================] - 18s 9ms/step - loss: 0.2986 - accuracy: 0.1257 - val_loss: 0.2994 - val_accuracy: 0.1261\n",
            "Epoch 9/20\n",
            "1875/1875 [==============================] - 18s 9ms/step - loss: 0.2970 - accuracy: 0.1293 - val_loss: 0.3025 - val_accuracy: 0.1326\n",
            "Epoch 10/20\n",
            "1875/1875 [==============================] - 18s 9ms/step - loss: 0.2954 - accuracy: 0.1338 - val_loss: 0.2954 - val_accuracy: 0.1334\n",
            "Epoch 11/20\n",
            "1875/1875 [==============================] - 18s 9ms/step - loss: 0.2941 - accuracy: 0.1380 - val_loss: 0.2982 - val_accuracy: 0.1353\n",
            "Epoch 12/20\n",
            "1875/1875 [==============================] - 18s 9ms/step - loss: 0.2928 - accuracy: 0.1409 - val_loss: 0.2942 - val_accuracy: 0.1467\n",
            "Epoch 13/20\n",
            "1875/1875 [==============================] - 18s 10ms/step - loss: 0.2916 - accuracy: 0.1438 - val_loss: 0.2929 - val_accuracy: 0.1513\n",
            "Epoch 14/20\n",
            "1875/1875 [==============================] - 18s 10ms/step - loss: 0.2906 - accuracy: 0.1467 - val_loss: 0.2924 - val_accuracy: 0.1510\n",
            "Epoch 15/20\n",
            "1875/1875 [==============================] - 18s 10ms/step - loss: 0.2895 - accuracy: 0.1505 - val_loss: 0.2909 - val_accuracy: 0.1455\n",
            "Epoch 16/20\n",
            "1875/1875 [==============================] - 18s 10ms/step - loss: 0.2887 - accuracy: 0.1535 - val_loss: 0.2898 - val_accuracy: 0.1585\n",
            "Epoch 17/20\n",
            "1875/1875 [==============================] - 18s 10ms/step - loss: 0.2878 - accuracy: 0.1569 - val_loss: 0.2894 - val_accuracy: 0.1595\n",
            "Epoch 18/20\n",
            "1875/1875 [==============================] - 18s 10ms/step - loss: 0.2870 - accuracy: 0.1600 - val_loss: 0.2927 - val_accuracy: 0.1490\n",
            "Epoch 19/20\n",
            "1875/1875 [==============================] - 18s 10ms/step - loss: 0.2865 - accuracy: 0.1628 - val_loss: 0.2883 - val_accuracy: 0.1653\n",
            "Epoch 20/20\n",
            "1875/1875 [==============================] - 18s 10ms/step - loss: 0.2858 - accuracy: 0.1655 - val_loss: 0.2900 - val_accuracy: 0.1539\n"
          ],
          "name": "stdout"
        },
        {
          "output_type": "execute_result",
          "data": {
            "text/plain": [
              "<tensorflow.python.keras.callbacks.History at 0x7f174b4ac7f0>"
            ]
          },
          "metadata": {
            "tags": []
          },
          "execution_count": 14
        }
      ]
    },
    {
      "cell_type": "code",
      "metadata": {
        "id": "GNGFf5uOs6Ei"
      },
      "source": [
        "passed_images = autoencoder.predict(X_test[:10])"
      ],
      "execution_count": null,
      "outputs": []
    },
    {
      "cell_type": "code",
      "metadata": {
        "id": "mj4pA2MtwQKk",
        "outputId": "b78766bc-3b72-4c64-8cc3-ac6d7e9144cc",
        "colab": {
          "base_uri": "https://localhost:8080/",
          "height": 563
        }
      },
      "source": [
        "n = 4\n",
        "print('Original Image:')\n",
        "plt.imshow(X_test[n])\n",
        "plt.show()\n",
        "print(\"Attempted Reconstruction: (After Autoencoder)\")\n",
        "plt.imshow(passed_images[n])"
      ],
      "execution_count": null,
      "outputs": [
        {
          "output_type": "stream",
          "text": [
            "Original Image:\n"
          ],
          "name": "stdout"
        },
        {
          "output_type": "display_data",
          "data": {
            "image/png": "[encoded data removed]",
            "text/plain": [
              "<Figure size 432x288 with 1 Axes>"
            ]
          },
          "metadata": {
            "tags": [],
            "needs_background": "light"
          }
        },
        {
          "output_type": "stream",
          "text": [
            "Attempted Reconstruction: (After Autoencoder)\n"
          ],
          "name": "stdout"
        },
        {
          "output_type": "execute_result",
          "data": {
            "text/plain": [
              "<matplotlib.image.AxesImage at 0x7f1746cd4588>"
            ]
          },
          "metadata": {
            "tags": []
          },
          "execution_count": 16
        },
        {
          "output_type": "display_data",
          "data": {
            "image/png": "[encoded data removed]",
            "text/plain": [
              "<Figure size 432x288 with 1 Axes>"
            ]
          },
          "metadata": {
            "tags": [],
            "needs_background": "light"
          }
        }
      ]
    },
    {
      "cell_type": "code",
      "metadata": {
        "id": "RPp0z8LAxGo1"
      },
      "source": [
        "from tensorflow.keras.layers import GaussianNoise"
      ],
      "execution_count": null,
      "outputs": []
    },
    {
      "cell_type": "code",
      "metadata": {
        "id": "hvdg7e7-2Gl9"
      },
      "source": [
        "sample = GaussianNoise(0.4)"
      ],
      "execution_count": null,
      "outputs": []
    },
    {
      "cell_type": "code",
      "metadata": {
        "id": "8wai6N372mOn",
        "outputId": "571e6d71-a0a0-4a4a-db25-10626dac3927",
        "colab": {
          "base_uri": "https://localhost:8080/",
          "height": 137
        }
      },
      "source": [
        "noisey = sample(X_test[:10],training=True)"
      ],
      "execution_count": null,
      "outputs": [
        {
          "output_type": "stream",
          "text": [
            "WARNING:tensorflow:Layer gaussian_noise is casting an input tensor from dtype float64 to the layer's dtype of float32, which is new behavior in TensorFlow 2.  The layer has dtype float32 because it's dtype defaults to floatx.\n",
            "\n",
            "If you intended to run this layer in float32, you can safely ignore this warning. If in doubt, this warning is likely only an issue if you are porting a TensorFlow 1.X model to TensorFlow 2.\n",
            "\n",
            "To change all layers to have dtype float64 by default, call `tf.keras.backend.set_floatx('float64')`. To change just this layer, pass dtype='float64' to the layer constructor. If you are the author of this layer, you can disable autocasting by passing autocast=False to the base Layer constructor.\n",
            "\n"
          ],
          "name": "stdout"
        }
      ]
    },
    {
      "cell_type": "code",
      "metadata": {
        "id": "ksxu0VAk2vpz",
        "outputId": "4435e208-02ec-402c-c5a8-86eaca3e8344",
        "colab": {
          "base_uri": "https://localhost:8080/",
          "height": 563
        }
      },
      "source": [
        "n = 4\n",
        "print('Original Image:')\n",
        "plt.imshow(X_test[n])\n",
        "plt.show()\n",
        "print(\"Noise Version\")\n",
        "plt.imshow(noisey[n])"
      ],
      "execution_count": null,
      "outputs": [
        {
          "output_type": "stream",
          "text": [
            "Original Image:\n"
          ],
          "name": "stdout"
        },
        {
          "output_type": "display_data",
          "data": {
            "image/png": "[encoded data removed]",
            "text/plain": [
              "<Figure size 432x288 with 1 Axes>"
            ]
          },
          "metadata": {
            "tags": [],
            "needs_background": "light"
          }
        },
        {
          "output_type": "stream",
          "text": [
            "Noise Version\n"
          ],
          "name": "stdout"
        },
        {
          "output_type": "execute_result",
          "data": {
            "text/plain": [
              "<matplotlib.image.AxesImage at 0x7f1747cf2b38>"
            ]
          },
          "metadata": {
            "tags": []
          },
          "execution_count": 20
        },
        {
          "output_type": "display_data",
          "data": {
            "image/png": "[encoded data removed]",
            "text/plain": [
              "<Figure size 432x288 with 1 Axes>"
            ]
          },
          "metadata": {
            "tags": [],
            "needs_background": "light"
          }
        }
      ]
    },
    {
      "cell_type": "code",
      "metadata": {
        "id": "RWs3qwKA3IBn"
      },
      "source": [
        "encoder = Sequential()\n",
        "encoder.add(Flatten(input_shape=[28,28]))\n",
        "encoder.add(GaussianNoise(0.3))\n",
        "encoder.add(Dense(400,activation='relu'))\n",
        "encoder.add(Dense(200,activation='relu'))\n",
        "encoder.add(Dense(100,activation='relu'))\n",
        "encoder.add(Dense(50,activation='relu'))\n",
        "encoder.add(Dense(25,activation='relu'))"
      ],
      "execution_count": null,
      "outputs": []
    },
    {
      "cell_type": "code",
      "metadata": {
        "id": "6WvJpKHJ4A7a"
      },
      "source": [
        "decoder = Sequential()\n",
        "decoder.add(Dense(50,input_shape=[25],activation='relu'))\n",
        "decoder.add(Dense(100,activation='relu'))\n",
        "decoder.add(Dense(200,activation='relu'))\n",
        "decoder.add(Dense(400,activation='relu'))\n",
        "decoder.add(Dense(784,activation='sigmoid'))\n",
        "decoder.add(Reshape([28,28]))"
      ],
      "execution_count": null,
      "outputs": []
    },
    {
      "cell_type": "code",
      "metadata": {
        "id": "Rliqyccs4KCy"
      },
      "source": [
        "noise_remover = Sequential([encoder,decoder])\n",
        "noise_remover.compile(loss='binary_crossentropy',optimizer='adam',metrics=['accuracy'])"
      ],
      "execution_count": null,
      "outputs": []
    },
    {
      "cell_type": "code",
      "metadata": {
        "id": "d5dapn8f4fle",
        "outputId": "b5e6c58c-db09-4a17-aeff-36388f4be856",
        "colab": {
          "base_uri": "https://localhost:8080/",
          "height": 702
        }
      },
      "source": [
        "noise_remover.fit(X_train,X_train,epochs=20)"
      ],
      "execution_count": null,
      "outputs": [
        {
          "output_type": "stream",
          "text": [
            "Epoch 1/20\n",
            "1875/1875 [==============================] - 20s 11ms/step - loss: 0.3274 - accuracy: 0.0905\n",
            "Epoch 2/20\n",
            "1875/1875 [==============================] - 20s 11ms/step - loss: 0.3023 - accuracy: 0.1212\n",
            "Epoch 3/20\n",
            "1875/1875 [==============================] - 20s 11ms/step - loss: 0.2969 - accuracy: 0.1373\n",
            "Epoch 4/20\n",
            "1875/1875 [==============================] - 20s 11ms/step - loss: 0.2935 - accuracy: 0.1465\n",
            "Epoch 5/20\n",
            "1875/1875 [==============================] - 20s 11ms/step - loss: 0.2909 - accuracy: 0.1545\n",
            "Epoch 6/20\n",
            "1875/1875 [==============================] - 20s 11ms/step - loss: 0.2893 - accuracy: 0.1594\n",
            "Epoch 7/20\n",
            "1875/1875 [==============================] - 20s 11ms/step - loss: 0.2881 - accuracy: 0.1628\n",
            "Epoch 8/20\n",
            "1875/1875 [==============================] - 20s 11ms/step - loss: 0.2872 - accuracy: 0.1666\n",
            "Epoch 9/20\n",
            "1875/1875 [==============================] - 20s 11ms/step - loss: 0.2865 - accuracy: 0.1696\n",
            "Epoch 10/20\n",
            "1875/1875 [==============================] - 20s 10ms/step - loss: 0.2859 - accuracy: 0.1718\n",
            "Epoch 11/20\n",
            "1875/1875 [==============================] - 20s 11ms/step - loss: 0.2854 - accuracy: 0.1744\n",
            "Epoch 12/20\n",
            "1875/1875 [==============================] - 20s 10ms/step - loss: 0.2849 - accuracy: 0.1755\n",
            "Epoch 13/20\n",
            "1875/1875 [==============================] - 19s 10ms/step - loss: 0.2845 - accuracy: 0.1771\n",
            "Epoch 14/20\n",
            "1875/1875 [==============================] - 19s 10ms/step - loss: 0.2842 - accuracy: 0.1783\n",
            "Epoch 15/20\n",
            "1875/1875 [==============================] - 20s 10ms/step - loss: 0.2837 - accuracy: 0.1803\n",
            "Epoch 16/20\n",
            "1875/1875 [==============================] - 20s 10ms/step - loss: 0.2835 - accuracy: 0.1810\n",
            "Epoch 17/20\n",
            "1875/1875 [==============================] - 20s 10ms/step - loss: 0.2833 - accuracy: 0.1818\n",
            "Epoch 18/20\n",
            "1875/1875 [==============================] - 20s 11ms/step - loss: 0.2830 - accuracy: 0.1831\n",
            "Epoch 19/20\n",
            "1875/1875 [==============================] - 20s 10ms/step - loss: 0.2828 - accuracy: 0.1832\n",
            "Epoch 20/20\n",
            "1875/1875 [==============================] - 20s 11ms/step - loss: 0.2825 - accuracy: 0.1843\n"
          ],
          "name": "stdout"
        },
        {
          "output_type": "execute_result",
          "data": {
            "text/plain": [
              "<tensorflow.python.keras.callbacks.History at 0x7f1747bd89b0>"
            ]
          },
          "metadata": {
            "tags": []
          },
          "execution_count": 24
        }
      ]
    },
    {
      "cell_type": "code",
      "metadata": {
        "id": "t3h4xYLg5Aac"
      },
      "source": [
        "noisy_images = sample(X_test[:10],training=True)"
      ],
      "execution_count": null,
      "outputs": []
    },
    {
      "cell_type": "code",
      "metadata": {
        "id": "LELiSBIY5WlP"
      },
      "source": [
        "denoised = noise_remover(noisy_images)"
      ],
      "execution_count": null,
      "outputs": []
    },
    {
      "cell_type": "code",
      "metadata": {
        "id": "6btMriel5jaH",
        "outputId": "a5ee599d-78b7-402c-858a-a1651b1a6beb",
        "colab": {
          "base_uri": "https://localhost:8080/",
          "height": 811
        }
      },
      "source": [
        "n = 4\n",
        "print('Original Image:')\n",
        "plt.imshow(X_test[n])\n",
        "plt.show()\n",
        "print('Noise Added Image:')\n",
        "plt.imshow(noisy_images[n])\n",
        "plt.show()\n",
        "print('After noise removal from Autoencoder:')\n",
        "plt.imshow(denoised[n])\n",
        "plt.show()"
      ],
      "execution_count": null,
      "outputs": [
        {
          "output_type": "stream",
          "text": [
            "Original Image:\n"
          ],
          "name": "stdout"
        },
        {
          "output_type": "display_data",
          "data": {
            "image/png": "[encoded data removed]",
            "text/plain": [
              "<Figure size 432x288 with 1 Axes>"
            ]
          },
          "metadata": {
            "tags": [],
            "needs_background": "light"
          }
        },
        {
          "output_type": "stream",
          "text": [
            "Noise Added Image:\n"
          ],
          "name": "stdout"
        },
        {
          "output_type": "display_data",
          "data": {
            "image/png": "[encoded data removed]",
            "text/plain": [
              "<Figure size 432x288 with 1 Axes>"
            ]
          },
          "metadata": {
            "tags": [],
            "needs_background": "light"
          }
        },
        {
          "output_type": "stream",
          "text": [
            "After noise removal from Autoencoder:\n"
          ],
          "name": "stdout"
        },
        {
          "output_type": "display_data",
          "data": {
            "image/png": "[encoded data removed]",
            "text/plain": [
              "<Figure size 432x288 with 1 Axes>"
            ]
          },
          "metadata": {
            "tags": [],
            "needs_background": "light"
          }
        }
      ]
    },
    {
      "cell_type": "markdown",
      "metadata": {
        "id": "6AD65LHE-Lx5"
      },
      "source": [
        "Applying Covolutional Layer Method\n"
      ]
    },
    {
      "cell_type": "code",
      "metadata": {
        "id": "hUtB_4BfCp-I",
        "colab": {
          "base_uri": "https://localhost:8080/",
          "height": 50
        },
        "outputId": "cac1ddc6-8cab-4809-cf90-85db520f66fe"
      },
      "source": [
        "from keras.layers import Input, Dense\n",
        "from keras.models import Model\n",
        "from keras.datasets import mnist\n",
        "import numpy as np\n",
        "(x_train, _), (x_test, _) = mnist.load_data()"
      ],
      "execution_count": null,
      "outputs": [
        {
          "output_type": "stream",
          "text": [
            "Downloading data from https://s3.amazonaws.com/img-datasets/mnist.npz\n",
            "11493376/11490434 [==============================] - 1s 0us/step\n"
          ],
          "name": "stdout"
        }
      ]
    },
    {
      "cell_type": "code",
      "metadata": {
        "id": "_qi1OQRbCrI4",
        "colab": {
          "base_uri": "https://localhost:8080/",
          "height": 113
        },
        "outputId": "4cb393f3-ca06-4ba6-becd-17a8f4967f78"
      },
      "source": [
        "import matplotlib.pyplot as plt\n",
        "\n",
        "n = 10  # how many records we will display\n",
        "plt.figure(figsize=(20, 4))\n",
        "for i in range(n):\n",
        "    # display original\n",
        "    ax = plt.subplot(2, n, i + 1)\n",
        "    plt.imshow(x_test[i].reshape(28, 28))\n",
        "    plt.gray()\n",
        "    ax.get_xaxis().set_visible(False)\n",
        "    ax.get_yaxis().set_visible(False)\n",
        "\n",
        "plt.show()"
      ],
      "execution_count": null,
      "outputs": [
        {
          "output_type": "display_data",
          "data": {
            "image/png": "[encoded data removed]",
            "text/plain": [
              "<Figure size 1440x288 with 10 Axes>"
            ]
          },
          "metadata": {
            "tags": [],
            "needs_background": "light"
          }
        }
      ]
    },
    {
      "cell_type": "code",
      "metadata": {
        "id": "OQWWPyhO-Qug"
      },
      "source": [
        "from keras.layers import Input, Dense, Conv2D, MaxPooling2D, UpSampling2D\n",
        "from keras.models import Model\n",
        "\n",
        "# The encoding process\n",
        "input_img = Input(shape=(28, 28, 1))\n",
        "\n",
        "############\n",
        "# Encoding #\n",
        "############\n",
        "\n",
        "# Conv1 #\n",
        "x = Conv2D(filters = 16, kernel_size = (3, 3), activation='relu', padding='same')(input_img)\n",
        "x = MaxPooling2D(pool_size = (2, 2), padding='same')(x)\n",
        "\n",
        "# Conv2 #\n",
        "x = Conv2D(filters = 8, kernel_size = (3, 3), activation='relu', padding='same')(x)\n",
        "x = MaxPooling2D(pool_size = (2, 2), padding='same')(x)\n",
        "\n",
        "# Conv 3 #\n",
        "x = Conv2D(filters = 8, kernel_size = (3, 3), activation='relu', padding='same')(x)\n",
        "encoded = MaxPooling2D(pool_size = (2, 2), padding='same')(x)\n"
      ],
      "execution_count": null,
      "outputs": []
    },
    {
      "cell_type": "code",
      "metadata": {
        "id": "UInNxbFc-b3k"
      },
      "source": [
        "###########\n",
        "# Decoding #\n",
        "############\n",
        "\n",
        "# DeConv1\n",
        "x = Conv2D(8, (3, 3), activation='relu', padding='same')(encoded)\n",
        "x = UpSampling2D((2, 2))(x)\n",
        "\n",
        "# DeConv2\n",
        "x = Conv2D(8, (3, 3), activation='relu', padding='same')(x)\n",
        "x = UpSampling2D((2, 2))(x)\n",
        "\n",
        "# Deconv3\n",
        "x = Conv2D(16, (3, 3), activation='relu')(x)\n",
        "x = UpSampling2D((2, 2))(x)\n",
        "decoded = Conv2D(1, (3, 3), activation='sigmoid', padding='same')(x)"
      ],
      "execution_count": null,
      "outputs": []
    },
    {
      "cell_type": "code",
      "metadata": {
        "id": "ApvxITR5-k9c"
      },
      "source": [
        "# Declare the model\n",
        "autoencoder = Model(input_img, decoded)\n",
        "autoencoder.compile(optimizer='adam', loss='binary_crossentropy',metrics=['accuracy'])"
      ],
      "execution_count": null,
      "outputs": []
    },
    {
      "cell_type": "code",
      "metadata": {
        "id": "rTNo3Qhc-18c"
      },
      "source": [
        "# Train the model\n",
        "autoencoder.fit(x_train, x_train,\n",
        "                epochs=20,\n",
        "                batch_size=128,\n",
        "                shuffle=True,\n",
        "                validation_data=(x_test, x_test)\n",
        "               )"
      ],
      "execution_count": null,
      "outputs": []
    },
    {
      "cell_type": "code",
      "metadata": {
        "id": "Koo4NMBE-7H1"
      },
      "source": [
        "decoded_imgs = autoencoder.predict(x_test)\n",
        "\n",
        "n = 10\n",
        "\n",
        "plt.figure(figsize=(20, 4))\n",
        "for i in range(n):\n",
        "    # display original\n",
        "    ax = plt.subplot(2, n, i + 1)\n",
        "    plt.imshow(x_test[i].reshape(28, 28))\n",
        "    plt.gray()\n",
        "    ax.get_xaxis().set_visible(False)\n",
        "    ax.get_yaxis().set_visible(False)\n",
        "\n",
        "    # display reconstruction\n",
        "    ax = plt.subplot(2, n, i+1+n)\n",
        "    plt.imshow(decoded_imgs[i].reshape(28, 28))\n",
        "    plt.gray()\n",
        "    ax.get_xaxis().set_visible(False)\n",
        "    ax.get_yaxis().set_visible(False)\n",
        "plt.show()"
      ],
      "execution_count": null,
      "outputs": []
    },
    {
      "cell_type": "code",
      "metadata": {
        "id": "efEjg5P-_A9p"
      },
      "source": [
        "noise_factor = 0.4\n",
        "x_train_noisy = x_train + noise_factor * np.random.normal(loc=0.0, scale=1.0, size=x_train.shape)\n",
        "x_test_noisy = x_test + noise_factor * np.random.normal(loc=0.0, scale=1.0, size=x_test.shape)\n",
        "\n",
        "x_train_noisy = np.clip(x_train_noisy, 0., 1.)\n",
        "x_test_noisy = np.clip(x_test_noisy, 0., 1.)"
      ],
      "execution_count": null,
      "outputs": []
    },
    {
      "cell_type": "code",
      "metadata": {
        "id": "TSDADwl6_KZ_"
      },
      "source": [
        "n = 10\n",
        "plt.figure(figsize=(20, 2))\n",
        "for i in range(n):\n",
        "    ax = plt.subplot(1, n, i+1)\n",
        "    plt.imshow(x_test_noisy[i].reshape(28, 28))\n",
        "    plt.gray()\n",
        "    ax.get_xaxis().set_visible(False)\n",
        "    ax.get_yaxis().set_visible(False)\n",
        "plt.show()"
      ],
      "execution_count": null,
      "outputs": []
    },
    {
      "cell_type": "code",
      "metadata": {
        "id": "if0uLpdm_PdE"
      },
      "source": [
        "autoencoder.fit(x_train_noisy, x_train,\n",
        "                epochs=100,\n",
        "                batch_size=128,\n",
        "                shuffle=True,\n",
        "                validation_data=(x_test_noisy, x_test)\n",
        "               )"
      ],
      "execution_count": null,
      "outputs": []
    },
    {
      "cell_type": "code",
      "metadata": {
        "id": "syVsb4MN_U48"
      },
      "source": [
        "decoded_imgs = autoencoder.predict(x_test)\n",
        "\n",
        "n = 10\n",
        "\n",
        "plt.figure(figsize=(20, 4))\n",
        "for i in range(n):\n",
        "    # display original\n",
        "    ax = plt.subplot(2, n, i + 1)\n",
        "    plt.imshow(x_test_noisy[i].reshape(28, 28))\n",
        "    plt.gray()\n",
        "    ax.get_xaxis().set_visible(False)\n",
        "    ax.get_yaxis().set_visible(False)\n",
        "\n",
        "    # display reconstruction\n",
        "    ax = plt.subplot(2, n, i+1+n)\n",
        "    plt.imshow(decoded_imgs[i].reshape(28, 28))\n",
        "    plt.gray()\n",
        "    ax.get_xaxis().set_visible(False)\n",
        "    ax.get_yaxis().set_visible(False)\n",
        "plt.show()"
      ],
      "execution_count": null,
      "outputs": []
    },
    {
      "cell_type": "code",
      "metadata": {
        "id": "0diFD4W__bfl"
      },
      "source": [],
      "execution_count": null,
      "outputs": []
    }
  ]
}