{
  "nbformat": 4,
  "nbformat_minor": 0,
  "metadata": {
    "colab": {
      "provenance": []
    },
    "kernelspec": {
      "display_name": "Python 3",
      "language": "python",
      "name": "python3"
    },
    "language_info": {
      "codemirror_mode": {
        "name": "ipython",
        "version": 3
      },
      "file_extension": ".py",
      "mimetype": "text/x-python",
      "name": "python",
      "nbconvert_exporter": "python",
      "pygments_lexer": "ipython3",
      "version": "3.7.6"
    }
  },
  "cells": [
    {
      "cell_type": "markdown",
      "metadata": {
        "id": "wBMWiRKTkKkS"
      },
      "source": [
        "# CNN for CIFAR Dataset"
      ]
    },
    {
      "cell_type": "code",
      "metadata": {
        "id": "CNEQKT44Ax5p"
      },
      "source": [
        "import pandas as pd\n",
        "import numpy as np\n",
        "import tensorflow as tf\n",
        "from tensorflow.keras.datasets import cifar10\n",
        "from tensorflow.keras.utils import to_categorical\n",
        "from tensorflow.keras.models import Sequential\n",
        "from tensorflow.keras.layers import Dense,Conv2D,MaxPool2D,Flatten\n",
        "import random\n",
        "import matplotlib.pyplot as plt"
      ],
      "execution_count": null,
      "outputs": []
    },
    {
      "cell_type": "code",
      "metadata": {
        "id": "EX8qpX6BA_-2"
      },
      "source": [
        "## Load the CIFAR dataset\n",
        "\n",
        "(x_train,y_train),(x_test,y_test) = cifar10.load_data()"
      ],
      "execution_count": null,
      "outputs": []
    },
    {
      "cell_type": "code",
      "metadata": {
        "id": "-LftlVqrBFBe",
        "outputId": "54d91fae-e861-47d3-f960-b9b4e15ff804",
        "colab": {
          "base_uri": "https://localhost:8080/",
          "height": 34
        }
      },
      "source": [
        "x_train.shape"
      ],
      "execution_count": null,
      "outputs": [
        {
          "output_type": "execute_result",
          "data": {
            "text/plain": [
              "(50000, 32, 32, 3)"
            ]
          },
          "metadata": {
            "tags": []
          },
          "execution_count": 3
        }
      ]
    },
    {
      "cell_type": "code",
      "metadata": {
        "id": "KKmo0ZA-BHr_"
      },
      "source": [
        "## Normalize the data.\n",
        "\n",
        "x_train = x_train/255\n",
        "x_test = x_test/255"
      ],
      "execution_count": null,
      "outputs": []
    },
    {
      "cell_type": "code",
      "metadata": {
        "id": "6aVaR-uBBJyL"
      },
      "source": [
        "# One-hot encode the labels as the data here is categorical ans sometimes the original numerical values may lead\n",
        "# to a continous value prediction. Also catogrical data in most cases is not numerical so one-hot encoding is\n",
        "# always a good practice.\n",
        "\n",
        "y_cat_train = to_categorical(y_train,10)\n",
        "y_cat_test = to_categorical(y_test,10)"
      ],
      "execution_count": null,
      "outputs": []
    },
    {
      "cell_type": "code",
      "metadata": {
        "id": "xRHLdoC6BMXj",
        "outputId": "064cfb11-fed6-43ee-c097-21db5bf340de",
        "colab": {
          "base_uri": "https://localhost:8080/",
          "height": 283
        }
      },
      "source": [
        "plt.imshow(x_train[27])"
      ],
      "execution_count": null,
      "outputs": [
        {
          "output_type": "execute_result",
          "data": {
            "text/plain": [
              "<matplotlib.image.AxesImage at 0x7fd2e22cf198>"
            ]
          },
          "metadata": {
            "tags": []
          },
          "execution_count": 6
        },
        {
          "output_type": "display_data",
          "data": {
            "image/png": "[encoded data removed]",
            "text/plain": [
              "<Figure size 432x288 with 1 Axes>"
            ]
          },
          "metadata": {
            "tags": [],
            "needs_background": "light"
          }
        }
      ]
    },
    {
      "cell_type": "code",
      "metadata": {
        "id": "c8X_PPQDBOI_",
        "outputId": "c929ca5a-ada9-428c-8700-805bf813bac8",
        "colab": {
          "base_uri": "https://localhost:8080/",
          "height": 34
        }
      },
      "source": [
        "y_train[27]"
      ],
      "execution_count": null,
      "outputs": [
        {
          "output_type": "execute_result",
          "data": {
            "text/plain": [
              "array([5], dtype=uint8)"
            ]
          },
          "metadata": {
            "tags": []
          },
          "execution_count": 7
        }
      ]
    },
    {
      "cell_type": "code",
      "metadata": {
        "id": "gEqgGBgVBQzN",
        "outputId": "3c215cb8-c501-4bc3-dcb9-9f3b19758644",
        "colab": {
          "base_uri": "https://localhost:8080/",
          "height": 34
        }
      },
      "source": [
        "class_labels = ['airplane','automobile','bird','cat','deer','dog','frog','horse','ship','truck']\n",
        "class_labels[y_train[27][0]]"
      ],
      "execution_count": null,
      "outputs": [
        {
          "output_type": "execute_result",
          "data": {
            "text/plain": [
              "'dog'"
            ]
          },
          "metadata": {
            "tags": []
          },
          "execution_count": 8
        }
      ]
    },
    {
      "cell_type": "code",
      "metadata": {
        "id": "yC6uBqdJBWbz"
      },
      "source": [
        "## Create the model.\n",
        "\n",
        "model = Sequential()\n",
        "\n",
        "## Here padding asd stride have been left as default  i.e. padding='valid' and stride=(1,1), so not passing here.\n",
        "model.add(Conv2D(filters=32,kernel_size=(4,4),input_shape=(32,32,3),activation='relu'))\n",
        "\n",
        "## Adding a pooling layer.\n",
        "model.add(MaxPool2D(pool_size=(2, 2)))\n",
        "\n",
        "## Add more layers\n",
        "model.add(Conv2D(filters=32,kernel_size=(4,4),input_shape=(32,32,3),activation='relu'))\n",
        "model.add(MaxPool2D(pool_size=(2, 2)))\n",
        "\n",
        "## Now we need to flatten the images as the penultimate layer should be a dense (fully connected) layer.\n",
        "model.add(Flatten())\n",
        "\n",
        "## Now add the dense layer.\n",
        "model.add(Dense(256,activation='relu'))\n",
        "\n",
        "## Output Layer, Softmax --> Multi class.\n",
        "model.add(Dense(10,activation='softmax'))"
      ],
      "execution_count": null,
      "outputs": []
    },
    {
      "cell_type": "code",
      "metadata": {
        "id": "9wNhSa3UBZld"
      },
      "source": [
        "# Instantiate an optimizer.\n",
        "optimizer = tf.keras.optimizers.Adam()\n",
        "\n",
        "# Instantiate a loss function.\n",
        "loss_fn = tf.keras.losses.CategoricalCrossentropy(from_logits=True)"
      ],
      "execution_count": null,
      "outputs": []
    },
    {
      "cell_type": "code",
      "metadata": {
        "id": "0ima-Pj6BfLC"
      },
      "source": [
        "batch_size = 64\n",
        "train_dataset = tf.data.Dataset.from_tensor_slices((x_train, y_cat_train))\n",
        "train_dataset = train_dataset.batch(batch_size)"
      ],
      "execution_count": null,
      "outputs": []
    },
    {
      "cell_type": "code",
      "metadata": {
        "id": "fykUNeDmBhGW",
        "outputId": "e325a7ee-84cc-4bd9-ca9c-0d136619d423",
        "colab": {
          "base_uri": "https://localhost:8080/",
          "height": 1000
        }
      },
      "source": [
        "epochs = 15\n",
        "for epoch in range(epochs):\n",
        "      print('Start of epoch', epoch)\n",
        "\n",
        "      # Iterate over the batches of the dataset.\n",
        "      for step, (x_batch_train, y_batch_train) in enumerate(train_dataset):\n",
        "\n",
        "        # Open a GradientTape to record the operations run\n",
        "        # during the forward pass, which enables autodifferentiation.\n",
        "        with tf.GradientTape() as tape:\n",
        "\n",
        "              # Run the forward pass of the layer.\n",
        "              # The operations that the layer applies\n",
        "              # to its inputs are going to be recorded\n",
        "              # on the GradientTape.\n",
        "              logits = model(x_batch_train, training=True)  # Logits for this minibatch\n",
        "\n",
        "              # Compute the loss value for this minibatch.\n",
        "              loss_value = loss_fn(y_batch_train, logits)\n",
        "\n",
        "        # Use the gradient tape to automatically retrieve\n",
        "        # the gradients of the trainable variables with respect to the loss.\n",
        "        grads = tape.gradient(loss_value, model.trainable_weights)\n",
        "\n",
        "        # Run one step of gradient descent by updating\n",
        "        # the value of the variables to minimize the loss.\n",
        "        optimizer.apply_gradients(zip(grads, model.trainable_weights))\n",
        "\n",
        "        # Log every 200 batches.\n",
        "        if step % 200 == 0:\n",
        "            preds = tf.argmax(logits, axis=1, output_type=tf.int32)\n",
        "            preds = to_categorical(preds)\n",
        "            acc = tf.reduce_mean(tf.cast(tf.equal(preds, y_batch_train),\n",
        "                                 tf.float32))\n",
        "            print(\"Loss: {} Accuracy: {}\".format(loss_value, acc))"
      ],
      "execution_count": null,
      "outputs": [
        {
          "output_type": "stream",
          "text": [
            "Start of epoch 0\n",
            "Loss: 2.3024587631225586 Accuracy: 0.809374988079071\n",
            "Loss: 2.07576322555542 Accuracy: 0.878125011920929\n",
            "Loss: 2.1276683807373047 Accuracy: 0.8656250238418579\n",
            "Loss: 2.1532516479492188 Accuracy: 0.859375\n",
            "Start of epoch 1\n",
            "Loss: 2.007000207901001 Accuracy: 0.887499988079071\n",
            "Loss: 1.9513062238693237 Accuracy: 0.90625\n",
            "Loss: 2.07035493850708 Accuracy: 0.878125011920929\n",
            "Loss: 2.0616860389709473 Accuracy: 0.875\n",
            "Start of epoch 2\n",
            "Loss: 1.964347004890442 Accuracy: 0.8968750238418579\n",
            "Loss: 1.8747167587280273 Accuracy: 0.9156249761581421\n",
            "Loss: 2.017331600189209 Accuracy: 0.890625\n",
            "Loss: 2.037397623062134 Accuracy: 0.8812500238418579\n",
            "Start of epoch 3\n",
            "Loss: 1.9186968803405762 Accuracy: 0.9125000238418579\n",
            "Loss: 1.8522837162017822 Accuracy: 0.921875\n",
            "Loss: 1.9545905590057373 Accuracy: 0.903124988079071\n",
            "Loss: 2.028963565826416 Accuracy: 0.8812500238418579\n",
            "Start of epoch 4\n",
            "Loss: 1.8712196350097656 Accuracy: 0.918749988079071\n",
            "Loss: 1.8776434659957886 Accuracy: 0.909375011920929\n",
            "Loss: 1.9387876987457275 Accuracy: 0.90625\n",
            "Loss: 1.95760178565979 Accuracy: 0.8999999761581421\n",
            "Start of epoch 5\n",
            "Loss: 1.8331916332244873 Accuracy: 0.925000011920929\n",
            "Loss: 1.7945151329040527 Accuracy: 0.934374988079071\n",
            "Loss: 1.9343698024749756 Accuracy: 0.90625\n",
            "Loss: 1.9121354818344116 Accuracy: 0.90625\n",
            "Start of epoch 6\n",
            "Loss: 1.796233892440796 Accuracy: 0.9375\n",
            "Loss: 1.72872793674469 Accuracy: 0.953125\n",
            "Loss: 1.914913296699524 Accuracy: 0.9125000238418579\n",
            "Loss: 1.885000228881836 Accuracy: 0.918749988079071\n",
            "Start of epoch 7\n",
            "Loss: 1.8273762464523315 Accuracy: 0.918749988079071\n",
            "Loss: 1.7271308898925781 Accuracy: 0.953125\n",
            "Loss: 1.9114611148834229 Accuracy: 0.90625\n",
            "Loss: 1.812958002090454 Accuracy: 0.934374988079071\n",
            "Start of epoch 8\n",
            "Loss: 1.817051649093628 Accuracy: 0.9281250238418579\n",
            "Loss: 1.6910382509231567 Accuracy: 0.9593750238418579\n",
            "Loss: 1.8696177005767822 Accuracy: 0.9156249761581421\n",
            "Loss: 1.8018407821655273 Accuracy: 0.934374988079071\n",
            "Start of epoch 9\n",
            "Loss: 1.7785990238189697 Accuracy: 0.9375\n",
            "Loss: 1.694693684577942 Accuracy: 0.953125\n",
            "Loss: 1.8483436107635498 Accuracy: 0.925000011920929\n",
            "Loss: 1.7889792919158936 Accuracy: 0.9312499761581421\n",
            "Start of epoch 10\n",
            "Loss: 1.7631161212921143 Accuracy: 0.940625011920929\n",
            "Loss: 1.6678466796875 Accuracy: 0.956250011920929\n",
            "Loss: 1.8218990564346313 Accuracy: 0.9281250238418579\n",
            "Loss: 1.8195021152496338 Accuracy: 0.925000011920929\n",
            "Start of epoch 11\n",
            "Loss: 1.8256572484970093 Accuracy: 0.925000011920929\n",
            "Loss: 1.6565635204315186 Accuracy: 0.9624999761581421\n",
            "Loss: 1.7890870571136475 Accuracy: 0.934374988079071\n",
            "Loss: 1.7583295106887817 Accuracy: 0.9375\n",
            "Start of epoch 12\n",
            "Loss: 1.7432887554168701 Accuracy: 0.9437500238418579\n",
            "Loss: 1.6940078735351562 Accuracy: 0.953125\n",
            "Loss: 1.7912557125091553 Accuracy: 0.9312499761581421\n",
            "Loss: 1.7990726232528687 Accuracy: 0.9312499761581421\n",
            "Start of epoch 13\n",
            "Loss: 1.750307559967041 Accuracy: 0.9437500238418579\n",
            "Loss: 1.711864948272705 Accuracy: 0.9468749761581421\n",
            "Loss: 1.7580986022949219 Accuracy: 0.940625011920929\n",
            "Loss: 1.7354772090911865 Accuracy: 0.9437500238418579\n",
            "Start of epoch 14\n",
            "Loss: 1.727518916130066 Accuracy: 0.949999988079071\n",
            "Loss: 1.6289374828338623 Accuracy: 0.9624999761581421\n",
            "Loss: 1.7456656694412231 Accuracy: 0.940625011920929\n",
            "Loss: 1.7571022510528564 Accuracy: 0.940625011920929\n"
          ],
          "name": "stdout"
        }
      ]
    },
    {
      "cell_type": "markdown",
      "metadata": {
        "id": "0aFARcy-kKlI"
      },
      "source": [
        "### So the training set accuracy is at around 95%"
      ]
    },
    {
      "cell_type": "markdown",
      "metadata": {
        "id": "bpTpwFHukKlI"
      },
      "source": [
        "# Test accuracy on validation data"
      ]
    },
    {
      "cell_type": "code",
      "metadata": {
        "id": "SxbUY3p6B0eu",
        "outputId": "a6c45276-3c50-4101-b03d-8d6613bb4b36",
        "colab": {
          "base_uri": "https://localhost:8080/",
          "height": 34
        }
      },
      "source": [
        "# Prepare the validation dataset.\n",
        "val_dataset = tf.data.Dataset.from_tensor_slices((x_test, y_cat_test))\n",
        "val_dataset = val_dataset.batch(128)\n",
        "\n",
        "val_acc_metric = tf.keras.metrics.CategoricalAccuracy()\n",
        "\n",
        "# Run a validation loop at the end of each epoch.\n",
        "for x_batch_val, y_batch_val in val_dataset:\n",
        "    val_logits = model(x_batch_val)\n",
        "    # Update val metrics\n",
        "    val_acc_metric(y_batch_val, val_logits)\n",
        "val_acc = val_acc_metric.result()\n",
        "val_acc_metric.reset_states()\n",
        "print('Validation accuracy :', float(val_acc))"
      ],
      "execution_count": null,
      "outputs": [
        {
          "output_type": "stream",
          "text": [
            "Validation accuracy : 0.6341999769210815\n"
          ],
          "name": "stdout"
        }
      ]
    },
    {
      "cell_type": "markdown",
      "metadata": {
        "id": "C0ce33zokKlM"
      },
      "source": [
        "## Let's make some predictions"
      ]
    },
    {
      "cell_type": "code",
      "metadata": {
        "id": "JMSpMbdXFzw2"
      },
      "source": [
        "random_test_data = []\n",
        "for x in range(5):\n",
        "    random_test_data.append(random.randrange(1, 10000))"
      ],
      "execution_count": null,
      "outputs": []
    },
    {
      "cell_type": "code",
      "metadata": {
        "id": "P733vi6YM045",
        "outputId": "4a8c2598-8a79-4053-cc7d-b91cc3218849",
        "colab": {
          "base_uri": "https://localhost:8080/",
          "height": 34
        }
      },
      "source": [
        "random_test_data"
      ],
      "execution_count": null,
      "outputs": [
        {
          "output_type": "execute_result",
          "data": {
            "text/plain": [
              "[8185, 6462, 74, 8192, 286]"
            ]
          },
          "metadata": {
            "tags": []
          },
          "execution_count": 30
        }
      ]
    },
    {
      "cell_type": "code",
      "metadata": {
        "id": "Yj-w4zc5M2l9",
        "outputId": "99ea9ff9-6867-4545-f402-a801bfac3620",
        "colab": {
          "base_uri": "https://localhost:8080/",
          "height": 1000
        }
      },
      "source": [
        "for x in range(5):\n",
        "    plt.imshow(x_test[random_test_data[x]].reshape(32,32,3),cmap='Blues')\n",
        "    plt.show()\n",
        "    predictions = model.predict_classes(x_test[random_test_data[x]].reshape(1,32,32,3))\n",
        "    print('Model Prediction:', class_labels[predictions[0]])\n",
        "    print('Actual class label:', class_labels[y_test[random_test_data[x]][0]])"
      ],
      "execution_count": null,
      "outputs": [
        {
          "output_type": "display_data",
          "data": {
            "image/png": "[encoded data removed]",
            "text/plain": [
              "<Figure size 432x288 with 1 Axes>"
            ]
          },
          "metadata": {
            "tags": [],
            "needs_background": "light"
          }
        },
        {
          "output_type": "stream",
          "text": [
            "Model Prediction: airplane\n",
            "Actual class label: airplane\n"
          ],
          "name": "stdout"
        },
        {
          "output_type": "display_data",
          "data": {
            "image/png": "[encoded data removed]",
            "text/plain": [
              "<Figure size 432x288 with 1 Axes>"
            ]
          },
          "metadata": {
            "tags": [],
            "needs_background": "light"
          }
        },
        {
          "output_type": "stream",
          "text": [
            "Model Prediction: airplane\n",
            "Actual class label: airplane\n"
          ],
          "name": "stdout"
        },
        {
          "output_type": "display_data",
          "data": {
            "image/png": "[encoded data removed]",
            "text/plain": [
              "<Figure size 432x288 with 1 Axes>"
            ]
          },
          "metadata": {
            "tags": [],
            "needs_background": "light"
          }
        },
        {
          "output_type": "stream",
          "text": [
            "Model Prediction: airplane\n",
            "Actual class label: airplane\n"
          ],
          "name": "stdout"
        },
        {
          "output_type": "display_data",
          "data": {
            "image/png": "[encoded data removed]",
            "text/plain": [
              "<Figure size 432x288 with 1 Axes>"
            ]
          },
          "metadata": {
            "tags": [],
            "needs_background": "light"
          }
        },
        {
          "output_type": "stream",
          "text": [
            "Model Prediction: dog\n",
            "Actual class label: dog\n"
          ],
          "name": "stdout"
        },
        {
          "output_type": "display_data",
          "data": {
            "image/png": "[encoded data removed]",
            "text/plain": [
              "<Figure size 432x288 with 1 Axes>"
            ]
          },
          "metadata": {
            "tags": [],
            "needs_background": "light"
          }
        },
        {
          "output_type": "stream",
          "text": [
            "Model Prediction: automobile\n",
            "Actual class label: automobile\n"
          ],
          "name": "stdout"
        }
      ]
    },
    {
      "cell_type": "code",
      "metadata": {
        "id": "MFXyP3l4NOlo"
      },
      "source": [
        "# Sanity Check: CNN for MNIST Dataset"
      ],
      "execution_count": null,
      "outputs": []
    },
    {
      "cell_type": "code",
      "metadata": {
        "id": "zzUFJ7z0kKla"
      },
      "source": [
        "from tensorflow.keras.datasets import mnist"
      ],
      "execution_count": null,
      "outputs": []
    },
    {
      "cell_type": "code",
      "metadata": {
        "id": "YgiKu8zVkKlc"
      },
      "source": [
        "## Load the MNIST dataset\n",
        "\n",
        "(x_train,y_train),(x_test,y_test) = mnist.load_data()"
      ],
      "execution_count": null,
      "outputs": []
    },
    {
      "cell_type": "code",
      "metadata": {
        "id": "4OweX4X8kKlf"
      },
      "source": [
        "# One-hot encode the labels as the data here is categorical ans sometimes the original numerical values may lead\n",
        "# to a continous value prediction. Also catogrical data in most cases is not numerical so one-hot encoding is\n",
        "# always a good practice.\n",
        "\n",
        "y_cat_train = to_categorical(y_train,10)\n",
        "y_cat_test = to_categorical(y_test,10)"
      ],
      "execution_count": null,
      "outputs": []
    },
    {
      "cell_type": "code",
      "metadata": {
        "id": "LHhQJvNFkKlh"
      },
      "source": [
        "## Normalize the data.\n",
        "\n",
        "x_train = x_train/255\n",
        "x_test = x_test/255"
      ],
      "execution_count": null,
      "outputs": []
    },
    {
      "cell_type": "code",
      "metadata": {
        "id": "DtkwB5gHkKlk"
      },
      "source": [
        "# Reshape the images to identify that the images are gray scale. Not required here but good for readability, inference\n",
        "# and to have an overall standard framework.\n",
        "\n",
        "x_train = x_train.reshape(-1,28,28,1)\n",
        "x_test = x_test.reshape(-1,28,28,1)"
      ],
      "execution_count": null,
      "outputs": []
    },
    {
      "cell_type": "code",
      "metadata": {
        "id": "iysducjCkKlm"
      },
      "source": [
        "## Create the model.\n",
        "\n",
        "model = Sequential()\n",
        "\n",
        "## Here padding asd stride have been left as default  i.e. padding='valid' and stride=(1,1), so not passing here.\n",
        "model.add(Conv2D(filters=32,kernel_size=(4,4),input_shape=(28,28,1),activation='relu'))\n",
        "\n",
        "## Adding a pooling layer.\n",
        "model.add(MaxPool2D(pool_size=(2, 2)))\n",
        "\n",
        "## Now we need to flatten the images as the penultimate layer should be a dense (fully connected) layer.\n",
        "model.add(Flatten())\n",
        "\n",
        "## Now add the dense layer.\n",
        "model.add(Dense(128,activation='relu'))\n",
        "\n",
        "## Output Layer, Softmax --> Multi class.\n",
        "model.add(Dense(10,activation='softmax'))"
      ],
      "execution_count": null,
      "outputs": []
    },
    {
      "cell_type": "code",
      "metadata": {
        "id": "P8XbJ-5NkKlp"
      },
      "source": [
        "# Instantiate an optimizer.\n",
        "optimizer = tf.keras.optimizers.Adam()\n",
        "\n",
        "# Instantiate a loss function.\n",
        "loss_fn = tf.keras.losses.CategoricalCrossentropy(from_logits=True)"
      ],
      "execution_count": null,
      "outputs": []
    },
    {
      "cell_type": "code",
      "metadata": {
        "id": "ll5Yn6BSkKls"
      },
      "source": [
        "## Prepare the test dataset\n",
        "batch_size = 128\n",
        "train_dataset = tf.data.Dataset.from_tensor_slices((x_train, y_cat_train))\n",
        "train_dataset = train_dataset.batch(batch_size)"
      ],
      "execution_count": null,
      "outputs": []
    },
    {
      "cell_type": "code",
      "metadata": {
        "id": "U0Df39TBkKlv",
        "outputId": "f55efa8b-2f3c-4025-d615-0ab3c343f311"
      },
      "source": [
        "## Select the number of epocs.\n",
        "epochs = 3\n",
        "for epoch in range(epochs):\n",
        "      print('Start of epoch', epoch)\n",
        "\n",
        "      # Iterate over the batches of the dataset.\n",
        "      for step, (x_batch_train, y_batch_train) in enumerate(train_dataset):\n",
        "\n",
        "        # Open a GradientTape to record the operations run\n",
        "        # during the forward pass, which enables autodifferentiation.\n",
        "        with tf.GradientTape() as tape:\n",
        "\n",
        "              # Run the forward pass of the layer.\n",
        "              # The operations that the layer applies\n",
        "              # to its inputs are going to be recorded\n",
        "              # on the GradientTape.\n",
        "              logits = model(x_batch_train, training=True)  # Logits for this minibatch\n",
        "\n",
        "              # Compute the loss value for this minibatch.\n",
        "              loss_value = loss_fn(y_batch_train, logits)\n",
        "\n",
        "        # Use the gradient tape to automatically retrieve\n",
        "        # the gradients of the trainable variables with respect to the loss.\n",
        "        grads = tape.gradient(loss_value, model.trainable_weights)\n",
        "\n",
        "        # Run one step of gradient descent by updating\n",
        "        # the value of the variables to minimize the loss.\n",
        "        optimizer.apply_gradients(zip(grads, model.trainable_weights))\n",
        "\n",
        "        # Log every 100 batches.\n",
        "        if step % 100 == 0:\n",
        "            preds = tf.argmax(logits, axis=1, output_type=tf.int32)\n",
        "            preds = to_categorical(preds)\n",
        "            acc = tf.reduce_mean(tf.cast(tf.equal(preds, y_batch_train),\n",
        "                                 tf.float32))\n",
        "            print(\"Loss: {} Accuracy: {}\".format(loss_value, acc))"
      ],
      "execution_count": null,
      "outputs": [
        {
          "output_type": "stream",
          "text": [
            "Start of epoch 0\n",
            "WARNING:tensorflow:Layer conv2d is casting an input tensor from dtype float64 to the layer's dtype of float32, which is new behavior in TensorFlow 2.  The layer has dtype float32 because it's dtype defaults to floatx.\n",
            "\n",
            "If you intended to run this layer in float32, you can safely ignore this warning. If in doubt, this warning is likely only an issue if you are porting a TensorFlow 1.X model to TensorFlow 2.\n",
            "\n",
            "To change all layers to have dtype float64 by default, call `tf.keras.backend.set_floatx('float64')`. To change just this layer, pass dtype='float64' to the layer constructor. If you are the author of this layer, you can disable autocasting by passing autocast=False to the base Layer constructor.\n",
            "\n",
            "Loss: 2.3065381050109863 Accuracy: 0.8046875\n",
            "Loss: 1.5552563667297363 Accuracy: 0.9859374761581421\n",
            "Loss: 1.527345895767212 Accuracy: 0.987500011920929\n",
            "Loss: 1.5189239978790283 Accuracy: 0.9906250238418579\n",
            "Loss: 1.5154380798339844 Accuracy: 0.989062488079071\n",
            "Start of epoch 1\n",
            "Loss: 1.4861390590667725 Accuracy: 0.995312511920929\n",
            "Loss: 1.4877920150756836 Accuracy: 0.995312511920929\n",
            "Loss: 1.4981956481933594 Accuracy: 0.995312511920929\n",
            "Loss: 1.482128620147705 Accuracy: 0.996874988079071\n",
            "Loss: 1.4816713333129883 Accuracy: 0.9984375238418579\n",
            "Start of epoch 2\n",
            "Loss: 1.4861042499542236 Accuracy: 0.996874988079071\n",
            "Loss: 1.4778919219970703 Accuracy: 0.996874988079071\n",
            "Loss: 1.4801597595214844 Accuracy: 0.9984375238418579\n",
            "Loss: 1.4773942232131958 Accuracy: 0.996874988079071\n",
            "Loss: 1.4773316383361816 Accuracy: 0.9984375238418579\n"
          ],
          "name": "stdout"
        }
      ]
    },
    {
      "cell_type": "markdown",
      "metadata": {
        "id": "1FJv9URqkKly"
      },
      "source": [
        "### So, here the train set accuracy is 99.8%"
      ]
    },
    {
      "cell_type": "markdown",
      "metadata": {
        "id": "ipYla08UkKly"
      },
      "source": [
        "## Validation over test data"
      ]
    },
    {
      "cell_type": "code",
      "metadata": {
        "id": "q6gb7j7KkKlz"
      },
      "source": [
        "# Prepare the validation dataset.\n",
        "val_dataset = tf.data.Dataset.from_tensor_slices((x_test, y_cat_test))\n",
        "val_dataset = val_dataset.batch(128)\n",
        "\n",
        "val_acc_metric = tf.keras.metrics.CategoricalAccuracy()"
      ],
      "execution_count": null,
      "outputs": []
    },
    {
      "cell_type": "code",
      "metadata": {
        "id": "lowwMASOkKl1",
        "outputId": "327f3255-1461-414e-e8b4-527de9f23f78"
      },
      "source": [
        "# Run a validation loop at the end of each epoch.\n",
        "for x_batch_val, y_batch_val in val_dataset:\n",
        "    val_logits = model(x_batch_val)\n",
        "    # Update val metrics\n",
        "    val_acc_metric(y_batch_val, val_logits)\n",
        "val_acc = val_acc_metric.result()\n",
        "val_acc_metric.reset_states()\n",
        "print('Validation accuracy :', float(val_acc))"
      ],
      "execution_count": null,
      "outputs": [
        {
          "output_type": "stream",
          "text": [
            "Validation accuracy : 0.9828000068664551\n"
          ],
          "name": "stdout"
        }
      ]
    },
    {
      "cell_type": "code",
      "metadata": {
        "id": "bKbaluRZkKl4"
      },
      "source": [
        "random_test_data = []\n",
        "for x in range(5):\n",
        "    random_test_data.append(random.randrange(1, 10000))"
      ],
      "execution_count": null,
      "outputs": []
    },
    {
      "cell_type": "code",
      "metadata": {
        "id": "-4-POeGSkKmC",
        "outputId": "bfa56855-cb64-4725-96d5-04cbd88616fb"
      },
      "source": [
        "random_test_data"
      ],
      "execution_count": null,
      "outputs": [
        {
          "output_type": "execute_result",
          "data": {
            "text/plain": [
              "[2153, 7374, 6868, 1348, 2226]"
            ]
          },
          "metadata": {
            "tags": []
          },
          "execution_count": 14
        }
      ]
    },
    {
      "cell_type": "code",
      "metadata": {
        "id": "vmqndYp9kKmF",
        "outputId": "55de5019-ea4a-477f-d077-532c05432723"
      },
      "source": [
        "for x in range(5):\n",
        "    plt.imshow(x_test[random_test_data[x]].reshape(28,28),cmap='Blues')\n",
        "    plt.show()\n",
        "    predictions = model.predict_classes(x_test[random_test_data[x]].reshape(1,28,28,1))\n",
        "    print('Model Prediction:', predictions[0])"
      ],
      "execution_count": null,
      "outputs": [
        {
          "output_type": "display_data",
          "data": {
            "image/png": "[encoded data removed]",
            "text/plain": [
              "<Figure size 432x288 with 1 Axes>"
            ]
          },
          "metadata": {
            "tags": [],
            "needs_background": "light"
          }
        },
        {
          "output_type": "stream",
          "text": [
            "Model Prediction: 3\n"
          ],
          "name": "stdout"
        },
        {
          "output_type": "display_data",
          "data": {
            "image/png": "[encoded data removed]",
            "text/plain": [
              "<Figure size 432x288 with 1 Axes>"
            ]
          },
          "metadata": {
            "tags": [],
            "needs_background": "light"
          }
        },
        {
          "output_type": "stream",
          "text": [
            "Model Prediction: 3\n"
          ],
          "name": "stdout"
        },
        {
          "output_type": "display_data",
          "data": {
            "image/png": "[encoded data removed]",
            "text/plain": [
              "<Figure size 432x288 with 1 Axes>"
            ]
          },
          "metadata": {
            "tags": [],
            "needs_background": "light"
          }
        },
        {
          "output_type": "stream",
          "text": [
            "Model Prediction: 1\n"
          ],
          "name": "stdout"
        },
        {
          "output_type": "display_data",
          "data": {
            "image/png": "[encoded data removed]",
            "text/plain": [
              "<Figure size 432x288 with 1 Axes>"
            ]
          },
          "metadata": {
            "tags": [],
            "needs_background": "light"
          }
        },
        {
          "output_type": "stream",
          "text": [
            "Model Prediction: 2\n"
          ],
          "name": "stdout"
        },
        {
          "output_type": "display_data",
          "data": {
            "image/png": "[encoded data removed]",
            "text/plain": [
              "<Figure size 432x288 with 1 Axes>"
            ]
          },
          "metadata": {
            "tags": [],
            "needs_background": "light"
          }
        },
        {
          "output_type": "stream",
          "text": [
            "Model Prediction: 0\n"
          ],
          "name": "stdout"
        }
      ]
    }
  ]
}