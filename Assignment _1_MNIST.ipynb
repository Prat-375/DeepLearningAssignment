{
 "cells": [
  {
   "cell_type": "markdown",
   "metadata": {
    "code_folding": [
     0
    ]
   },
   "source": [
    "# Introduction to Deep Learning - Assignment 1"
   ]
  },
  {
   "cell_type": "markdown",
   "metadata": {},
   "source": [
    "## References\n",
    "1. Complete Guide to TensorFlow for Deep Learning with Python (https://www.udemy.com/course/complete-guide-to-tensorflow-for-deep-learning-with-python/)\n",
    "2. TFLearn (http://tflearn.org/examples/)\n",
    "3. Tensorflow examples by Aymeric Damien (https://github.com/aymericdamien)"
   ]
  },
  {
   "cell_type": "markdown",
   "metadata": {},
   "source": [
    "Importing the required libraries and the provided MNISTDataset method"
   ]
  },
  {
   "cell_type": "code",
   "execution_count": 1,
   "metadata": {},
   "outputs": [],
   "source": [
    "import tensorflow as tf\n",
    "import numpy as np\n",
    "import matplotlib.pyplot as plt\n",
    "from datasets import MNISTDataset"
   ]
  },
  {
   "cell_type": "markdown",
   "metadata": {},
   "source": [
    "In this code cell we are loading the MNIST dataset from \"dataset.py\" file and then we are restructuring the data and modifying the data type.  \n",
    "We are also printing a sample training image and its respective class label to peek into the actual dataset"
   ]
  },
  {
   "cell_type": "code",
   "execution_count": 2,
   "metadata": {},
   "outputs": [
    {
     "data": {
      "image/png": "[encoded data removed]",
      "text/plain": [
       "<Figure size 432x288 with 1 Axes>"
      ]
     },
     "metadata": {
      "needs_background": "light"
     },
     "output_type": "display_data"
    }
   ],
   "source": [
    "mnist = tf.keras.datasets.mnist\n",
    "(train_images, train_labels), (test_images, test_labels) = mnist.load_data()\n",
    "\n",
    "plt.imshow(train_images[0], cmap=\"Blues\")\n",
    "\n",
    "data = MNISTDataset(train_images.reshape([-1, 784]), train_labels, \n",
    "                    test_images.reshape([-1, 784]), test_labels,\n",
    "                    batch_size=128)"
   ]
  },
  {
   "cell_type": "markdown",
   "metadata": {},
   "source": [
    "In this code cell we have initialized variables related to class label, class features, learning rate, training step, display step and we have also defined the variables for nodes in the first and second layer.  \n",
    "The value for \"layer_1\" and \"layer_2\" has been obtained by trail and error and tweaking the values to obtain high accuracy"
   ]
  },
  {
   "cell_type": "code",
   "execution_count": 3,
   "metadata": {},
   "outputs": [],
   "source": [
    "train_steps = 1000\n",
    "learning_rate = 0.1\n",
    "\n",
    "# Define layers\n",
    "layer_1 = 784 # 1st layer number of neurons.\n",
    "layer_2 = 256 # 2nd layer number of neurons.\n",
    "\n",
    "# Intialize number of features and classes\n",
    "num_classes = 10 # total classes (0-9 digits)\n",
    "num_features = 784 # data features (img shape: 28*28)\n",
    "\n",
    "# Training parameters.\n",
    "learning_rate = 0.1\n",
    "training_steps = 1000"
   ]
  },
  {
   "cell_type": "markdown",
   "metadata": {},
   "source": [
    "In this code cell we are defining the weights and biases for all of our layers. We have used the \"RandomNormal\" initializer to generate a normally distributed, non-zero values for our inital weights and zero vectors for our initial baises.  \n",
    "The reason for choosing a non-zero initializer for our weight vectors is that since we multiply the weights with our multi layer inputs , we would end with a zero after multiplication but adding a zero in terms of a bias will not result in a total zero."
   ]
  },
  {
   "cell_type": "code",
   "execution_count": 4,
   "metadata": {},
   "outputs": [],
   "source": [
    "# A random value generator to initialize weights.\n",
    "random_normal = tf.initializers.RandomNormal()\n",
    "\n",
    "weights = {\n",
    "    'l1': tf.Variable(random_normal([num_features, layer_1])),\n",
    "    'l2': tf.Variable(random_normal([layer_1, layer_2]))\n",
    "}\n",
    "# Intializing biases as zero\n",
    "biases = {\n",
    "    'b1': tf.Variable(tf.zeros([layer_1])),\n",
    "    'b2': tf.Variable(tf.zeros([layer_2]))\n",
    "}"
   ]
  },
  {
   "cell_type": "markdown",
   "metadata": {},
   "source": [
    "All that's left is to train the model now"
   ]
  },
  {
   "cell_type": "code",
   "execution_count": 5,
   "metadata": {},
   "outputs": [
    {
     "name": "stdout",
     "output_type": "stream",
     "text": [
      "Loss: 5.7878851890563965 Accuracy: 0.0\n",
      "Loss: 0.3357069492340088 Accuracy: 0.9140625\n",
      "Loss: 0.28503838181495667 Accuracy: 0.9453125\n",
      "Loss: 0.2733749747276306 Accuracy: 0.9375\n",
      "Loss: 0.30666255950927734 Accuracy: 0.890625\n",
      "Starting new epoch...\n",
      "Loss: 0.3448445796966553 Accuracy: 0.9140625\n",
      "Loss: 0.22409966588020325 Accuracy: 0.9453125\n",
      "Loss: 0.2769731879234314 Accuracy: 0.9375\n",
      "Loss: 0.19530710577964783 Accuracy: 0.9453125\n",
      "Loss: 0.3018382787704468 Accuracy: 0.9296875\n",
      "Starting new epoch...\n"
     ]
    }
   ],
   "source": [
    "for step in range(train_steps):\n",
    "    img_batch, lbl_batch = data.next_batch()\n",
    "    with tf.GradientTape() as tape:\n",
    "        logits = tf.matmul(tf.nn.relu(tf.matmul(img_batch, weights['l1']) + biases['b1']),weights['l2'])+biases['b2']\n",
    "        xent = tf.reduce_mean(tf.nn.sparse_softmax_cross_entropy_with_logits(logits=logits, labels=lbl_batch))\n",
    "        \n",
    "    grads = tape.gradient(xent, [weights['l1'], biases['b1'],weights['l2'],biases['b2']])\n",
    "    weights['l1'].assign_sub(learning_rate * grads[0])\n",
    "    biases['b1'].assign_sub(learning_rate * grads[1])\n",
    "    weights['l2'].assign_sub(learning_rate * grads[2])\n",
    "    biases['b2'].assign_sub(learning_rate * grads[3])\n",
    "    \n",
    "    if not step % 100:\n",
    "        preds = tf.argmax(logits, axis=1, output_type=tf.int32)\n",
    "        acc = tf.reduce_mean(tf.cast(tf.equal(preds, lbl_batch),\n",
    "                             tf.float32))\n",
    "        print(\"Loss: {} Accuracy: {}\".format(xent, acc))"
   ]
  },
  {
   "cell_type": "markdown",
   "metadata": {},
   "source": [
    "Let's see the accuracy on the test set"
   ]
  },
  {
   "cell_type": "code",
   "execution_count": 6,
   "metadata": {},
   "outputs": [
    {
     "name": "stdout",
     "output_type": "stream",
     "text": [
      "tf.Tensor(0.9411, shape=(), dtype=float32)\n"
     ]
    }
   ],
   "source": [
    "test_preds = tf.argmax(tf.matmul(tf.nn.relu(tf.matmul(data.test_data, weights['l1']) + biases['b1']),weights['l2'])+biases['b2'], axis=1,\n",
    "                       output_type=tf.int32)\n",
    "acc = tf.reduce_mean(tf.cast(tf.equal(test_preds, data.test_labels),\n",
    "                             tf.float32))\n",
    "print(acc)\n"
   ]
  },
  {
   "cell_type": "markdown",
   "metadata": {},
   "source": [
    "Finally, let's make some predictions :)"
   ]
  },
  {
   "cell_type": "code",
   "execution_count": 7,
   "metadata": {},
   "outputs": [
    {
     "data": {
      "image/png": "[encoded data removed]",
      "text/plain": [
       "<Figure size 432x288 with 1 Axes>"
      ]
     },
     "metadata": {
      "needs_background": "light"
     },
     "output_type": "display_data"
    },
    {
     "name": "stdout",
     "output_type": "stream",
     "text": [
      "Model prediction : 7\n"
     ]
    },
    {
     "data": {
      "image/png": "[encoded data removed]",
      "text/plain": [
       "<Figure size 432x288 with 1 Axes>"
      ]
     },
     "metadata": {
      "needs_background": "light"
     },
     "output_type": "display_data"
    },
    {
     "name": "stdout",
     "output_type": "stream",
     "text": [
      "Model prediction : 2\n"
     ]
    },
    {
     "data": {
      "image/png": "[encoded data removed]",
      "text/plain": [
       "<Figure size 432x288 with 1 Axes>"
      ]
     },
     "metadata": {
      "needs_background": "light"
     },
     "output_type": "display_data"
    },
    {
     "name": "stdout",
     "output_type": "stream",
     "text": [
      "Model prediction : 1\n"
     ]
    },
    {
     "data": {
      "image/png": "[encoded data removed]",
      "text/plain": [
       "<Figure size 432x288 with 1 Axes>"
      ]
     },
     "metadata": {
      "needs_background": "light"
     },
     "output_type": "display_data"
    },
    {
     "name": "stdout",
     "output_type": "stream",
     "text": [
      "Model prediction : 0\n"
     ]
    },
    {
     "data": {
      "image/png": "[encoded data removed]",
      "text/plain": [
       "<Figure size 432x288 with 1 Axes>"
      ]
     },
     "metadata": {
      "needs_background": "light"
     },
     "output_type": "display_data"
    },
    {
     "name": "stdout",
     "output_type": "stream",
     "text": [
      "Model prediction : 4\n"
     ]
    }
   ],
   "source": [
    "n_images = 5\n",
    "test_images = data.test_data[:n_images]\n",
    "predictions = tf.argmax(tf.matmul(tf.nn.relu(tf.matmul(test_images, weights['l1']) + biases['b1']),weights['l2'])+biases['b2'], axis=1,\n",
    "                       output_type=tf.int32)\n",
    "n_predic = predictions.numpy()\n",
    "\n",
    "# Display image and model prediction.\n",
    "for i in range(n_images):\n",
    "    plt.imshow(np.reshape(test_images[i], [28, 28]), cmap='Blues')\n",
    "    plt.show()\n",
    "    print(\"Model prediction :\" , n_predic[i])"
   ]
  },
  {
   "cell_type": "markdown",
   "metadata": {},
   "source": [
    "# **** Fashion MNIST ****"
   ]
  },
  {
   "cell_type": "code",
   "execution_count": 8,
   "metadata": {},
   "outputs": [
    {
     "data": {
      "image/png": "[encoded data removed]",
      "text/plain": [
       "<Figure size 720x720 with 25 Axes>"
      ]
     },
     "metadata": {},
     "output_type": "display_data"
    }
   ],
   "source": [
    "from tensorflow import keras\n",
    "\n",
    "fashion_mnist = keras.datasets.fashion_mnist\n",
    "\n",
    "(train_images, train_labels), (test_images, test_labels) = fashion_mnist.load_data()\n",
    "\n",
    "class_names = ['T-shirt/top', 'Trouser', 'Pullover', 'Dress', 'Coat',\n",
    "               'Sandal', 'Shirt', 'Sneaker', 'Bag', 'Ankle boot']\n",
    "\n",
    "plt.figure(figsize=(10,10))\n",
    "for i in range(25):\n",
    "    plt.subplot(5,5,i+1)\n",
    "    plt.xticks([])\n",
    "    plt.yticks([])\n",
    "    plt.grid(False)\n",
    "    plt.imshow(train_images[i], cmap=plt.cm.binary)\n",
    "    plt.xlabel(class_names[train_labels[i]])\n",
    "plt.show()"
   ]
  },
  {
   "cell_type": "code",
   "execution_count": 9,
   "metadata": {},
   "outputs": [],
   "source": [
    "\n",
    "data = MNISTDataset(train_images.reshape([-1, 784]), train_labels, \n",
    "                    test_images.reshape([-1, 784]), test_labels,\n",
    "                    batch_size=128)\n",
    "\n",
    "train_steps = 1000\n",
    "learning_rate = 0.1\n",
    "\n",
    "# Define layers\n",
    "layer_1 = 784 # 1st layer number of neurons.\n",
    "layer_2 = 256 # 2nd layer number of neurons.\n",
    "\n",
    "# Intialize number of features and classes\n",
    "num_classes = 10 # total classes (0-9 digits)\n",
    "num_features = 784 # data features (img shape: 28*28)\n",
    "\n",
    "# Training parameters.\n",
    "learning_rate = 0.1\n",
    "training_steps = 1000\n",
    "\n",
    "# A random value generator to initialize weights.\n",
    "random_normal = tf.initializers.RandomNormal()\n",
    "\n",
    "weights = {\n",
    "    'l1': tf.Variable(random_normal([num_features, layer_1])),\n",
    "    'l2': tf.Variable(random_normal([layer_1, layer_2]))\n",
    "}\n",
    "# Intializing biases as zero\n",
    "biases = {\n",
    "    'b1': tf.Variable(tf.zeros([layer_1])),\n",
    "    'b2': tf.Variable(tf.zeros([layer_2]))\n",
    "}\n",
    "\n",
    "#         logits = tf.matmul(img_batch, W) + b\n",
    "\n"
   ]
  },
  {
   "cell_type": "code",
   "execution_count": 10,
   "metadata": {},
   "outputs": [
    {
     "name": "stdout",
     "output_type": "stream",
     "text": [
      "Loss: 5.881059169769287 Accuracy: 0.0\n",
      "Loss: 0.7458686828613281 Accuracy: 0.7578125\n",
      "Loss: 0.4496135115623474 Accuracy: 0.8203125\n",
      "Loss: 0.6667338013648987 Accuracy: 0.75\n",
      "Loss: 0.48259595036506653 Accuracy: 0.8359375\n",
      "Starting new epoch...\n",
      "Loss: 0.5221860408782959 Accuracy: 0.7890625\n",
      "Loss: 0.4345928430557251 Accuracy: 0.8359375\n",
      "Loss: 0.4435328245162964 Accuracy: 0.8515625\n",
      "Loss: 0.3634560704231262 Accuracy: 0.875\n",
      "Loss: 0.5439831018447876 Accuracy: 0.796875\n",
      "Starting new epoch...\n"
     ]
    }
   ],
   "source": [
    "for step in range(train_steps):\n",
    "    img_batch, lbl_batch = data.next_batch()\n",
    "    with tf.GradientTape() as tape:\n",
    "        logits = tf.matmul(tf.nn.relu(tf.matmul(img_batch, weights['l1']) + biases['b1']),weights['l2'])+biases['b2']\n",
    "        xent = tf.reduce_mean(tf.nn.sparse_softmax_cross_entropy_with_logits(logits=logits, labels=lbl_batch))\n",
    "        \n",
    "    grads = tape.gradient(xent, [weights['l1'], biases['b1'],weights['l2'],biases['b2']])\n",
    "    weights['l1'].assign_sub(learning_rate * grads[0])\n",
    "    biases['b1'].assign_sub(learning_rate * grads[1])\n",
    "    weights['l2'].assign_sub(learning_rate * grads[2])\n",
    "    biases['b2'].assign_sub(learning_rate * grads[3])\n",
    "    \n",
    "    if not step % 100:\n",
    "        preds = tf.argmax(logits, axis=1, output_type=tf.int32)\n",
    "        acc = tf.reduce_mean(tf.cast(tf.equal(preds, lbl_batch),\n",
    "                             tf.float32))\n",
    "        print(\"Loss: {} Accuracy: {}\".format(xent, acc))\n"
   ]
  },
  {
   "cell_type": "code",
   "execution_count": 11,
   "metadata": {},
   "outputs": [
    {
     "name": "stdout",
     "output_type": "stream",
     "text": [
      "tf.Tensor(0.8262, shape=(), dtype=float32)\n"
     ]
    }
   ],
   "source": [
    "\n",
    "test_preds = tf.argmax(tf.matmul(tf.nn.relu(tf.matmul(data.test_data, weights['l1']) + biases['b1']),weights['l2'])+biases['b2'], axis=1,\n",
    "                       output_type=tf.int32)\n",
    "acc = tf.reduce_mean(tf.cast(tf.equal(test_preds, data.test_labels),\n",
    "                             tf.float32))\n",
    "print(acc)\n",
    "\n"
   ]
  },
  {
   "cell_type": "code",
   "execution_count": 12,
   "metadata": {},
   "outputs": [
    {
     "data": {
      "image/png": "[encoded data removed]",
      "text/plain": [
       "<Figure size 432x288 with 1 Axes>"
      ]
     },
     "metadata": {
      "needs_background": "light"
     },
     "output_type": "display_data"
    },
    {
     "name": "stdout",
     "output_type": "stream",
     "text": [
      "Model prediction : Ankle boot\n"
     ]
    },
    {
     "data": {
      "image/png": "[encoded data removed]",
      "text/plain": [
       "<Figure size 432x288 with 1 Axes>"
      ]
     },
     "metadata": {
      "needs_background": "light"
     },
     "output_type": "display_data"
    },
    {
     "name": "stdout",
     "output_type": "stream",
     "text": [
      "Model prediction : Pullover\n"
     ]
    },
    {
     "data": {
      "image/png": "[encoded data removed]",
      "text/plain": [
       "<Figure size 432x288 with 1 Axes>"
      ]
     },
     "metadata": {
      "needs_background": "light"
     },
     "output_type": "display_data"
    },
    {
     "name": "stdout",
     "output_type": "stream",
     "text": [
      "Model prediction : Trouser\n"
     ]
    },
    {
     "data": {
      "image/png": "[encoded data removed]",
      "text/plain": [
       "<Figure size 432x288 with 1 Axes>"
      ]
     },
     "metadata": {
      "needs_background": "light"
     },
     "output_type": "display_data"
    },
    {
     "name": "stdout",
     "output_type": "stream",
     "text": [
      "Model prediction : Trouser\n"
     ]
    },
    {
     "data": {
      "image/png": "[encoded data removed]",
      "text/plain": [
       "<Figure size 432x288 with 1 Axes>"
      ]
     },
     "metadata": {
      "needs_background": "light"
     },
     "output_type": "display_data"
    },
    {
     "name": "stdout",
     "output_type": "stream",
     "text": [
      "Model prediction : Shirt\n"
     ]
    }
   ],
   "source": [
    "n_images = 5\n",
    "test_images = data.test_data[:n_images]\n",
    "predictions = tf.argmax(tf.matmul(tf.nn.relu(tf.matmul(test_images, weights['l1']) + biases['b1']),weights['l2'])+biases['b2'], axis=1,\n",
    "                       output_type=tf.int32)\n",
    "n_predic = predictions.numpy()\n",
    "\n",
    "# Display image and model prediction.\n",
    "for i in range(n_images):\n",
    "    plt.imshow(np.reshape(test_images[i], [28, 28]), cmap=plt.cm.binary)\n",
    "    plt.show()\n",
    "    print(\"Model prediction :\" , class_names[n_predic[i]])"
   ]
  },
  {
   "cell_type": "markdown",
   "metadata": {},
   "source": [
    "# **** Experimentation ****"
   ]
  },
  {
   "cell_type": "code",
   "execution_count": 13,
   "metadata": {},
   "outputs": [],
   "source": [
    "mnist = tf.keras.datasets.mnist\n",
    "(train_images, train_labels), (test_images, test_labels) = mnist.load_data()\n",
    "\n",
    "# Modify the data using datasets.py provived with the assignment\n",
    "data = MNISTDataset(train_images.reshape([-1, 784]), train_labels, \n",
    "                    test_images.reshape([-1, 784]), test_labels,\n",
    "                    batch_size=128)"
   ]
  },
  {
   "cell_type": "code",
   "execution_count": 14,
   "metadata": {},
   "outputs": [],
   "source": [
    "# Intialize number of features and classes\n",
    "num_classes = 10 # total classes (0-9 digits)\n",
    "num_features = 784 # data features (img shape: 28*28)\n",
    "\n",
    "# Training parameters.\n",
    "learning_rate = 0.001\n",
    "training_steps = 3000\n",
    "\n",
    "display_step = 100 # Used for displayed current accuracy and loss \n",
    "\n",
    "# Define layers\n",
    "layer_1 = 128 # 1st layer number of neurons.\n",
    "layer_2 = 256 # 2nd layer number of neurons."
   ]
  },
  {
   "cell_type": "code",
   "execution_count": 15,
   "metadata": {},
   "outputs": [],
   "source": [
    "# Store layers weight & bias\n",
    "\n",
    "# A random value generator to initialize weights.\n",
    "random_normal = tf.initializers.RandomNormal()\n",
    "\n",
    "weights = {\n",
    "    'l1': tf.Variable(random_normal([num_features, layer_1])),\n",
    "    'l2': tf.Variable(random_normal([layer_1, layer_2])),\n",
    "    'out': tf.Variable(random_normal([layer_2, num_classes]))\n",
    "}\n",
    "# Intializing biases as zero\n",
    "biases = {\n",
    "    'b1': tf.Variable(tf.zeros([layer_1])),\n",
    "    'b2': tf.Variable(tf.zeros([layer_2])),\n",
    "    'out': tf.Variable(tf.zeros([num_classes]))\n",
    "}"
   ]
  },
  {
   "cell_type": "code",
   "execution_count": 16,
   "metadata": {},
   "outputs": [],
   "source": [
    "# Create the 'neural network'\n",
    "def neural_net(x):\n",
    "    # Hidden fully connected layer with 128 neurons.\n",
    "    layer_1 = tf.add(tf.matmul(x, weights['l1']), biases['b1'])\n",
    "    # Apply sigmoid to layer_1 output.\n",
    "    layer_1 = tf.nn.sigmoid(layer_1)\n",
    "    \n",
    "    # Hidden fully connected layer with 256 neurons.\n",
    "    layer_2 = tf.add(tf.matmul(layer_1, weights['l2']), biases['b2'])\n",
    "    # Apply tanh to layer_2 output .\n",
    "    layer_2 = tf.nn.tanh(layer_2)\n",
    "    \n",
    "    # Output fully connected layer with a neuron for each class.\n",
    "    out_layer = tf.matmul(layer_2, weights['out']) + biases['out']\n",
    "    # Apply softmax to normalize the logits to a probability distribution.\n",
    "    return tf.nn.softmax(out_layer)"
   ]
  },
  {
   "cell_type": "code",
   "execution_count": 17,
   "metadata": {},
   "outputs": [],
   "source": [
    "# Cross-Entropy loss function.\n",
    "def cross_entropy(y_pred, y_true):\n",
    "    # Encode label to a one hot vector.\n",
    "    y_true = tf.one_hot(y_true, depth=num_classes)\n",
    "    # Clip prediction values to avoid log(0) error.\n",
    "    y_pred = tf.clip_by_value(y_pred, 1e-9, 1.)\n",
    "    # Compute cross-entropy.\n",
    "    return tf.reduce_mean(-tf.reduce_sum(y_true * tf.math.log(y_pred)))\n",
    "\n",
    "# Accuracy metric.\n",
    "def accuracy(y_pred, y_true):\n",
    "    # Predicted class is the index of highest score in prediction vector (i.e. argmax).\n",
    "    correct_prediction = tf.equal(tf.argmax(y_pred, 1), tf.cast(y_true, tf.int64))\n",
    "    #correct_prediction = tf.equal(tf.argmax(y_pred, 1), y_true)\n",
    "    return tf.reduce_mean(tf.cast(correct_prediction, tf.float32), axis=-1)\n",
    "    #return tf.reduce_mean(correct_prediction, axis=-1)\n",
    "\n",
    "# Stochastic gradient descent optimizer.\n",
    "optimizer = tf.optimizers.SGD(learning_rate)"
   ]
  },
  {
   "cell_type": "code",
   "execution_count": 18,
   "metadata": {},
   "outputs": [],
   "source": [
    "# Optimization process. \n",
    "def run_optimization(x, y):\n",
    "    # Wrap computation inside a GradientTape for automatic differentiation.\n",
    "    with tf.GradientTape() as g:\n",
    "        pred = neural_net(x)\n",
    "        loss = cross_entropy(pred, y)\n",
    "        \n",
    "    # Variables to update, i.e. trainable variables.\n",
    "    trainable_variables = list(weights.values()) + list(biases.values())\n",
    "\n",
    "    # Compute gradients.\n",
    "    gradients = g.gradient(loss, trainable_variables)\n",
    "    \n",
    "    # Update W and b following gradients.\n",
    "    optimizer.apply_gradients(zip(gradients, trainable_variables))"
   ]
  },
  {
   "cell_type": "code",
   "execution_count": 25,
   "metadata": {},
   "outputs": [
    {
     "name": "stdout",
     "output_type": "stream",
     "text": [
      "step: 100, loss: 15.263645, accuracy: 0.976562\n",
      "step: 200, loss: 6.022300, accuracy: 0.992188\n",
      "step: 300, loss: 6.715314, accuracy: 0.992188\n",
      "Starting new epoch...\n",
      "step: 400, loss: 5.335716, accuracy: 0.992188\n",
      "step: 500, loss: 5.015395, accuracy: 0.992188\n",
      "step: 600, loss: 3.038942, accuracy: 1.000000\n",
      "step: 700, loss: 7.134572, accuracy: 0.984375\n",
      "step: 800, loss: 5.915218, accuracy: 0.992188\n",
      "Starting new epoch...\n",
      "step: 900, loss: 6.771576, accuracy: 0.992188\n",
      "step: 1000, loss: 7.079206, accuracy: 0.992188\n",
      "step: 1100, loss: 9.247520, accuracy: 0.968750\n",
      "step: 1200, loss: 4.519602, accuracy: 0.992188\n",
      "step: 1300, loss: 7.579339, accuracy: 0.984375\n",
      "Starting new epoch...\n",
      "step: 1400, loss: 9.662672, accuracy: 0.984375\n",
      "step: 1500, loss: 3.541431, accuracy: 0.992188\n",
      "step: 1600, loss: 4.450400, accuracy: 1.000000\n",
      "step: 1700, loss: 5.038842, accuracy: 1.000000\n",
      "Starting new epoch...\n",
      "step: 1800, loss: 2.781622, accuracy: 1.000000\n",
      "step: 1900, loss: 7.532280, accuracy: 0.992188\n",
      "step: 2000, loss: 10.861745, accuracy: 0.992188\n",
      "step: 2100, loss: 5.173938, accuracy: 0.992188\n",
      "step: 2200, loss: 6.239832, accuracy: 0.984375\n",
      "Starting new epoch...\n",
      "step: 2300, loss: 4.650277, accuracy: 0.992188\n",
      "step: 2400, loss: 4.639861, accuracy: 0.992188\n",
      "step: 2500, loss: 3.402082, accuracy: 1.000000\n",
      "step: 2600, loss: 4.981392, accuracy: 0.992188\n",
      "step: 2700, loss: 10.999054, accuracy: 0.992188\n",
      "Starting new epoch...\n",
      "step: 2800, loss: 5.848950, accuracy: 0.984375\n",
      "step: 2900, loss: 6.293540, accuracy: 0.984375\n"
     ]
    }
   ],
   "source": [
    "# Run training for the given number of steps.\n",
    "for step in range(1,training_steps):\n",
    "    img_batch, lbl_batch = data.next_batch()\n",
    "    run_optimization(img_batch, lbl_batch)\n",
    "    \n",
    "    if step % display_step == 0:\n",
    "        pred = neural_net(img_batch)\n",
    "        loss = cross_entropy(pred, lbl_batch)\n",
    "        acc = accuracy(pred, lbl_batch)\n",
    "        print(\"step: %i, loss: %f, accuracy: %f\" % (step, loss, acc))"
   ]
  },
  {
   "cell_type": "code",
   "execution_count": 26,
   "metadata": {},
   "outputs": [
    {
     "name": "stdout",
     "output_type": "stream",
     "text": [
      "Test Accuracy: 0.972800\n"
     ]
    }
   ],
   "source": [
    "# Test model on test data\n",
    "pred = neural_net(data.test_data)\n",
    "print(\"Test Accuracy: %f\" % accuracy(pred, data.test_labels))"
   ]
  }
 ],
 "metadata": {
  "kernelspec": {
   "display_name": "Python 3",
   "language": "python",
   "name": "python3"
  },
  "language_info": {
   "codemirror_mode": {
    "name": "ipython",
    "version": 3
   },
   "file_extension": ".py",
   "mimetype": "text/x-python",
   "name": "python",
   "nbconvert_exporter": "python",
   "pygments_lexer": "ipython3",
   "version": "3.7.6"
  }
 },
 "nbformat": 4,
 "nbformat_minor": 4
}
